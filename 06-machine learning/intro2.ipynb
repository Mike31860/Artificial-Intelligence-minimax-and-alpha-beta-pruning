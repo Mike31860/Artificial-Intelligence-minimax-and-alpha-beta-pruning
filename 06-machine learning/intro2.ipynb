{
  "nbformat": 4,
  "nbformat_minor": 0,
  "metadata": {
    "colab": {
      "name": "intro2.ipynb",
      "provenance": [],
      "collapsed_sections": []
    },
    "kernelspec": {
      "name": "python3",
      "display_name": "Python 3"
    }
  },
  "cells": [
    {
      "cell_type": "markdown",
      "metadata": {
        "id": "fJoVXjPRKyMk",
        "colab_type": "text"
      },
      "source": [
        "# Escogiendo hiperparametros: cross-validation\n",
        "\n",
        "## Los datos\n"
      ]
    },
    {
      "cell_type": "code",
      "metadata": {
        "id": "qvKEhnY8D1XN",
        "colab_type": "code",
        "outputId": "5e703a30-1aa9-4513-d67a-5fdc72d50a94",
        "colab": {
          "base_uri": "https://localhost:8080/",
          "height": 265
        }
      },
      "source": [
        "import numpy as np\n",
        "import matplotlib.pyplot as plt\n",
        "\n",
        "n = 100\n",
        "\n",
        "x = np.linspace(0, 100, n)\n",
        "fx = np.cos(x/10)\n",
        "y = fx +  np.random.normal(0, 0.2, n)\n",
        "\n",
        "plt.scatter(x, y)\n",
        "plt.show()"
      ],
      "execution_count": 0,
      "outputs": [
        {
          "output_type": "display_data",
          "data": {
            "image/png": "[encoded data removed]",
            "text/plain": [
              "<Figure size 432x288 with 1 Axes>"
            ]
          },
          "metadata": {
            "tags": []
          }
        }
      ]
    },
    {
      "cell_type": "markdown",
      "metadata": {
        "id": "ydI-hxpENVQ6",
        "colab_type": "text"
      },
      "source": [
        "## Extraccion del test set\n",
        "\n",
        "Extraemos el 30% de los datos para probar nuestro modelo."
      ]
    },
    {
      "cell_type": "code",
      "metadata": {
        "id": "aVVKbQuGNe7I",
        "colab_type": "code",
        "outputId": "fdea7041-185f-419c-be7c-93e06fb52d71",
        "colab": {
          "base_uri": "https://localhost:8080/",
          "height": 334
        }
      },
      "source": [
        "from sklearn.model_selection import train_test_split\n",
        "\n",
        "x_train, x_test, y_train, y_test = train_test_split(x, y, test_size = 0.3)\n",
        "\n",
        "print(len(x_train))\n",
        "print(len(x_test))\n",
        "print(len(y_train))\n",
        "print(len(y_test))\n",
        "\n",
        "plt.scatter(x_train, y_train)\n",
        "plt.scatter(x_test, y_test)\n",
        "plt.show()"
      ],
      "execution_count": 0,
      "outputs": [
        {
          "output_type": "stream",
          "text": [
            "70\n",
            "30\n",
            "70\n",
            "30\n"
          ],
          "name": "stdout"
        },
        {
          "output_type": "display_data",
          "data": {
            "image/png": "[encoded data removed]",
            "text/plain": [
              "<Figure size 432x288 with 1 Axes>"
            ]
          },
          "metadata": {
            "tags": []
          }
        }
      ]
    },
    {
      "cell_type": "markdown",
      "metadata": {
        "id": "BOXeToF5O9nQ",
        "colab_type": "text"
      },
      "source": [
        "## El modelo: smoothing splines\n",
        "\n",
        "Este modelo encuentra curvas que se ajustan a los datos controlado por una variable de suavizacion.\n",
        "\n",
        "Preparamos los datos para entrenamiento."
      ]
    },
    {
      "cell_type": "code",
      "metadata": {
        "id": "ufe7SA4zQKUe",
        "colab_type": "code",
        "outputId": "02c76181-2328-4a1d-b783-33a5fd7ebf61",
        "colab": {
          "base_uri": "https://localhost:8080/",
          "height": 203
        }
      },
      "source": [
        "import pandas as pd\n",
        "\n",
        "data_train = pd.DataFrame({\n",
        "    \"x\": x_train,\n",
        "    \"y\": y_train\n",
        "})\n",
        "\n",
        "data_test = pd.DataFrame({\n",
        "    \"x\": x_test,\n",
        "    \"y\": y_test\n",
        "})\n",
        "\n",
        "data_train = data_train.sort_values(by=[\"x\"])\n",
        "data_test = data_tdata_trainest.sort_values(by=[\"x\"])\n",
        "data_train\n",
        "data_train.head()data_train"
      ],
      "execution_count": 0,
      "outputs": [
        {
          "output_type": "execute_result",
          "data": {
            "text/html": [
              "<div>\n",
              "<style scoped>\n",
              "    .dataframe tbody tr th:only-of-type {\n",
              "        vertical-align: middle;\n",
              "    }\n",
              "\n",
              "    .dataframe tbody tr th {\n",
              "        vertical-align: top;\n",
              "    }\n",
              "\n",
              "    .dataframe thead th {\n",
              "        text-align: right;\n",
              "    }\n",
              "</style>\n",
              "<table border=\"1\" class=\"dataframe\">\n",
              "  <thead>\n",
              "    <tr style=\"text-align: right;\">\n",
              "      <th></th>\n",
              "      <th>x</th>\n",
              "      <th>y</th>\n",
              "    </tr>\n",
              "  </thead>\n",
              "  <tbody>\n",
              "    <tr>\n",
              "      <th>15</th>\n",
              "      <td>0.000000</td>\n",
              "      <td>1.024978</td>\n",
              "    </tr>\n",
              "    <tr>\n",
              "      <th>6</th>\n",
              "      <td>1.010101</td>\n",
              "      <td>0.943200</td>\n",
              "    </tr>\n",
              "    <tr>\n",
              "      <th>57</th>\n",
              "      <td>2.020202</td>\n",
              "      <td>1.507876</td>\n",
              "    </tr>\n",
              "    <tr>\n",
              "      <th>68</th>\n",
              "      <td>3.030303</td>\n",
              "      <td>0.412533</td>\n",
              "    </tr>\n",
              "    <tr>\n",
              "      <th>29</th>\n",
              "      <td>4.040404</td>\n",
              "      <td>0.963204</td>\n",
              "    </tr>\n",
              "  </tbody>\n",
              "</table>\n",
              "</div>"
            ],
            "text/plain": [
              "           x         y\n",
              "15  0.000000  1.024978\n",
              "6   1.010101  0.943200\n",
              "57  2.020202  1.507876\n",
              "68  3.030303  0.412533\n",
              "29  4.040404  0.963204"
            ]
          },
          "metadata": {
            "tags": []
          },
          "execution_count": 64
        }
      ]
    },
    {
      "cell_type": "markdown",
      "metadata": {
        "id": "6aLt8n1NUmhn",
        "colab_type": "text"
      },
      "source": [
        "Ajustamos diferentes modelos con distintos parametros de suavizacion."
      ]
    },
    {
      "cell_type": "code",
      "metadata": {
        "id": "z5mi8GpmUkfv",
        "colab_type": "code",
        "outputId": "b61fa155-ae53-4881-c6b3-3a0744e89296",
        "colab": {
          "base_uri": "https://localhost:8080/",
          "height": 265
        }
      },
      "source": [
        "#!pip install csaps\n",
        "import csaps\n",
        "\n",
        "def mse(preds, real):\n",
        "  subs = np.subtract(real, preds)\n",
        "  pows = np.power(subs, 2.0)\n",
        "\n",
        "  return np.mean(pows)\n",
        "\n",
        "plt.scatter(data_train.x, data_train.y)\n",
        "\n",
        "ss = np.arange(0.001, 0.1, 0.01)\n",
        "errors = []\n",
        "\n",
        "for s in ss:\n",
        "  model = csaps.UnivariateCubicSmoothingSpline(data_train.x, data_train.y, smooth=s)\n",
        "  pred_ys = model(data_test.x)\n",
        "\n",
        "  plt.plot(data_train.x, model(data_train.x))\n",
        "\n",
        "  error = mse(pred_ys, data_test.y)\n",
        "  errors.append(error)"
      ],
      "execution_count": 0,
      "outputs": [
        {
          "output_type": "display_data",
          "data": {
            "image/png": "[encoded data removed]",
            "text/plain": [
              "<Figure size 432x288 with 1 Axes>"
            ]
          },
          "metadata": {
            "tags": []
          }
        }
      ]
    },
    {
      "cell_type": "code",
      "metadata": {
        "id": "uzu48Piy401s",
        "colab_type": "code",
        "outputId": "798d0063-448c-4e7e-879b-b78034f107a9",
        "colab": {
          "base_uri": "https://localhost:8080/",
          "height": 454
        }
      },
      "source": [
        "errors_data = pd.DataFrame({\n",
        "    \"s\": ss,\n",
        "    \"error\": errors\n",
        "})\n",
        "\n",
        "print(errors_data)\n",
        "\n",
        "plt.plot(ss, errors, '-', ss, errors, '.')\n",
        "plt.show()"
      ],
      "execution_count": 0,
      "outputs": [
        {
          "output_type": "stream",
          "text": [
            "       s     error\n",
            "0  0.001  0.059927\n",
            "1  0.011  0.054010\n",
            "2  0.021  0.057149\n",
            "3  0.031  0.059025\n",
            "4  0.041  0.060377\n",
            "5  0.051  0.061470\n",
            "6  0.061  0.062413\n",
            "7  0.071  0.063259\n",
            "8  0.081  0.064038\n",
            "9  0.091  0.064765\n"
          ],
          "name": "stdout"
        },
        {
          "output_type": "display_data",
          "data": {
            "image/png": "[encoded data removed]",
            "text/plain": [
              "<Figure size 432x288 with 1 Axes>"
            ]
          },
          "metadata": {
            "tags": []
          }
        }
      ]
    }
  ]
}