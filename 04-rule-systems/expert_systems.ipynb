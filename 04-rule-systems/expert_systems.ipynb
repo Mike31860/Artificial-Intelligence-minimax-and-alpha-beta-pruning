{
  "nbformat": 4,
  "nbformat_minor": 0,
  "metadata": {
    "kernelspec": {
      "display_name": "Python 3",
      "language": "python",
      "name": "python3"
    },
    "language_info": {
      "codemirror_mode": {
        "name": "ipython",
        "version": 3
      },
      "file_extension": ".py",
      "mimetype": "text/x-python",
      "name": "python",
      "nbconvert_exporter": "python",
      "pygments_lexer": "ipython3",
      "version": "3.7.6-final"
    },
    "colab": {
      "name": "expert systems.ipynb",
      "provenance": [],
      "collapsed_sections": [
        "XskTSWI7k9bn",
        "YVtYVkAvk9dE",
        "zdJh8lKYk9dI"
      ]
    }
  },
  "cells": [
    {
      "cell_type": "markdown",
      "metadata": {
        "id": "Ove6FoFvk9aL",
        "colab_type": "text"
      },
      "source": [
        "# Reasoning\n",
        "\n",
        "It is an attribute of human beings. The capacity of reasoning allows any person to remember information related to events and make new knowledge about things that we have not lived yet.\n",
        "\n",
        "This capacity allows us to classify objects and situations, through this we can recognize them and make decisions about them. For example, if someone shows us a computer we can identify it through its features, we can do this with things that we knew previously, for example:\n",
        "\n",
        "+ It has a mouse\n",
        "+ It has a monitor\n",
        "+ It has a keyboard\n",
        "+ Etc."
      ]
    },
    {
      "cell_type": "markdown",
      "metadata": {
        "id": "Lt092tO-k9aM",
        "colab_type": "text"
      },
      "source": [
        "## Expert systems\n",
        "\n",
        "<img src=\"https://www.igcseict.info/theory/7_2/expert/files/stacks_image_5738.png\" />"
      ]
    },
    {
      "cell_type": "markdown",
      "metadata": {
        "id": "F1rGjljuk9aP",
        "colab_type": "text"
      },
      "source": [
        "Since the first artificial intelligence works have tried to develop computers with reasoning capacities like humans. The first systems were called knowledge-based system (KBS) which don't reason but they are specially designed to resolve a specific complex problem through the application of logic rules (it is called the knowledge domain).\n",
        "These solutions have two main components, they are:\n",
        "\n",
        "+ The Knowledge Base\n",
        "\n",
        "Its purpose is to save the information about the domain to make conclusions about the inputs. This is done in the form of _facts_.\n",
        "\n",
        "+ The Inference Engine\n",
        "\n",
        "It is the reasoning process of the solution which searches information in the knowledge engine and explores relationships between them them to get a coherent conclusion related to the problem approached.\n",
        "In a __Expert System__ the _inference engine_ is based in rules and a base of facts or memory of works. \n",
        "\n",
        "A fact has information about a domain, and it allows us to associate facts with other new facts via _rules_, an example rule that creates a fact from e previous one is:\n",
        "\n",
        "FactAntecedent(a) $\\to$ FactConsequence(b) \n",
        "\n",
        "In the inference engine we can find two search strategies, the most used is called _forward chaining_ and another is named _backward chaining_. In the forward chaining, the expert system makes inferences according to the antecedents of the rules.\n",
        "\n",
        "For an implementation of forward chaining in Python, we can use the library PyKnow."
      ]
    },
    {
      "cell_type": "markdown",
      "metadata": {
        "id": "nBkFKuJrk9aY",
        "colab_type": "text"
      },
      "source": [
        "## PyKnow\n",
        "\n",
        "This library allows us to create forward chaining systems that use facts and rules. This implementation of expert systems is based in CLIPS (http://www.clipsrules.net/) which was originally developed by NASA based on the C language.\n",
        "\n",
        "Let's install the library by running the following line inside a cell in a notebook:\n",
        "\n",
        "```\n",
        "!pip install pyknow\n",
        "```\n"
      ]
    },
    {
      "cell_type": "code",
      "metadata": {
        "id": "FRiMmzznk9aa",
        "colab_type": "code",
        "outputId": "62ad3049-b75f-4daf-d7f7-00f49b5ff8c5",
        "colab": {
          "base_uri": "https://localhost:8080/",
          "height": 306
        }
      },
      "source": [
        "!pip install https://github.com/buguroo/pyknow/archive/v1.7.0.zip"
      ],
      "execution_count": 3,
      "outputs": [
        {
          "output_type": "stream",
          "name": "stdout",
          "text": "Collecting https://github.com/buguroo/pyknow/archive/v1.7.0.zip\n  Using cached https://github.com/buguroo/pyknow/archive/v1.7.0.zip\nRequirement already satisfied (use --upgrade to upgrade): pyknow==1.7.0 from https://github.com/buguroo/pyknow/archive/v1.7.0.zip in /Users/felipe/opt/anaconda3/envs/lab-ia/lib/python3.7/site-packages\nRequirement already satisfied: frozendict==1.2 in /Users/felipe/opt/anaconda3/envs/lab-ia/lib/python3.7/site-packages (from pyknow==1.7.0) (1.2)\nRequirement already satisfied: schema==0.6.7 in /Users/felipe/opt/anaconda3/envs/lab-ia/lib/python3.7/site-packages (from pyknow==1.7.0) (0.6.7)\nBuilding wheels for collected packages: pyknow\n  Building wheel for pyknow (setup.py) ... \u001b[?25ldone\n\u001b[?25h  Created wheel for pyknow: filename=pyknow-1.7.0-py3-none-any.whl size=34143 sha256=9b6e9eb2068eb7cccfb5fea8db1e9aa1b4bd61bf5bbeff4143ab2ff8492dbe98\n  Stored in directory: /private/var/folders/9v/6vrs_kr549z8v97dbfdfmbyr0000gn/T/pip-ephem-wheel-cache-3wch7ipx/wheels/14/25/74/76fb8269ad8549713ffa055c0a26d5723f13e626896fb9a1ca\nSuccessfully built pyknow\n"
        }
      ]
    },
    {
      "cell_type": "markdown",
      "metadata": {},
      "source": [
        "Now we can import the names in the module:"
      ]
    },
    {
      "cell_type": "code",
      "metadata": {
        "id": "35UIyXoWk9ai",
        "colab_type": "code",
        "colab": {}
      },
      "source": [
        "from pyknow import *"
      ],
      "execution_count": 2,
      "outputs": []
    },
    {
      "cell_type": "markdown",
      "metadata": {
        "id": "BurLnZvxk9an",
        "colab_type": "text"
      },
      "source": [
        "Some definitions of names in the module are:\n",
        "\n",
        "__Fact__ is a basic unit of PyKnow which are used by the system to reason about the problem. \n",
        "\n",
        "__Rule__ is a callable, decorated with _Rule_. Rules have two components, LHS (left-hand-side) and RHS (right-hand-side).\n",
        "\n",
        "+ The LHS describes (using patterns) the conditions on which the rule _n_ should be executed.\n",
        "+ The RHS is the set of actions to perform when the rule is fired\n",
        "\n",
        "```\n",
        "@Rule(<pattern_1>,\n",
        "<pattern_2>,\n",
        "...\n",
        "<pattern_n>)\n",
        "def my_rule():\n",
        "  pass\n",
        "```\n",
        "\n",
        "The patterns are applied with AND by default.\n",
        "\n",
        "\n",
        "For a Fact to match a Pattern, all pattern restrictions must be True when the Fact is evaluated against it. "
      ]
    },
    {
      "cell_type": "code",
      "metadata": {
        "id": "I9-6F9ZHk9ap",
        "colab_type": "code",
        "outputId": "0face164-b2a9-43ee-917b-23767076d193",
        "colab": {
          "base_uri": "https://localhost:8080/",
          "height": 34
        }
      },
      "source": [
        "f = Fact(a=1, b=2) # order is arbitraty\n",
        "print(f['a'])"
      ],
      "execution_count": 4,
      "outputs": [
        {
          "output_type": "stream",
          "name": "stdout",
          "text": "1\n"
        }
      ]
    },
    {
      "cell_type": "markdown",
      "metadata": {
        "id": "8WRwLm2_k9at",
        "colab_type": "text"
      },
      "source": [
        "We can make a Fact without keys (only values), and Fact will create a numeric index for each value"
      ]
    },
    {
      "cell_type": "code",
      "metadata": {
        "id": "XnX9ubnek9au",
        "colab_type": "code",
        "outputId": "9b80b945-c195-4ae3-9e86-83a2dd981a2c",
        "colab": {
          "base_uri": "https://localhost:8080/",
          "height": 34
        }
      },
      "source": [
        "f = Fact('x', 'y', 'z')\n",
        "\n",
        "print(f[1])"
      ],
      "execution_count": 7,
      "outputs": [
        {
          "output_type": "stream",
          "name": "stdout",
          "text": "y\n"
        }
      ]
    },
    {
      "cell_type": "markdown",
      "metadata": {
        "id": "Q2kYXFuik9a9",
        "colab_type": "text"
      },
      "source": [
        "Variables can also be optionally named."
      ]
    },
    {
      "cell_type": "code",
      "metadata": {
        "id": "MeIqn3QXk9a-",
        "colab_type": "code",
        "outputId": "775a6246-37db-46f9-baaf-b59537ea693d",
        "colab": {
          "base_uri": "https://localhost:8080/",
          "height": 51
        }
      },
      "source": [
        "f = Fact('x', 'y', 'z', a=1, b=2)\n",
        "\n",
        "print(f[0])\n",
        "print(f['a'])"
      ],
      "execution_count": 10,
      "outputs": [
        {
          "output_type": "stream",
          "name": "stdout",
          "text": "x\n1\n"
        }
      ]
    },
    {
      "cell_type": "markdown",
      "metadata": {
        "id": "asitZkStk9bF",
        "colab_type": "text"
      },
      "source": [
        "We can subclass Fact to express different kinds of data or extend it with our own properties and functions."
      ]
    },
    {
      "cell_type": "code",
      "metadata": {
        "id": "_jOaTLn6k9bH",
        "colab_type": "code",
        "outputId": "9a8d54de-a8ae-4e87-c47f-423abdfaadd8",
        "colab": {
          "base_uri": "https://localhost:8080/",
          "height": 51
        }
      },
      "source": [
        "class Alert(Fact):\n",
        "    pass\n",
        "class Status(Fact):\n",
        "    pass\n",
        "\n",
        "f1 = Alert(color='red')\n",
        "f2 = Status(state='critical')\n",
        "\n",
        "print(f1['color'])\n",
        "print(f2['state'])"
      ],
      "execution_count": 11,
      "outputs": [
        {
          "output_type": "stream",
          "name": "stdout",
          "text": "red\ncritical\n"
        }
      ]
    },
    {
      "cell_type": "markdown",
      "metadata": {
        "id": "y_3n8u-Lk9bM",
        "colab_type": "text"
      },
      "source": [
        "Most of the time expert systems needs a set of facts to be present for the system to work. This is the purporse of the DefFacts decorator. So, all the DefFacts inside a KnowledgeEngine will be called every time the reset method is executed. "
      ]
    },
    {
      "cell_type": "code",
      "metadata": {
        "id": "wJwAnS5ak9bN",
        "colab_type": "code",
        "colab": {}
      },
      "source": [
        "@DefFacts()\n",
        "def needed_data():\n",
        "    yield Fact(best_color='red')\n",
        "    yield Fact(best_body='medium')\n",
        "    yield Fact(best_sweetness='dry')    "
      ],
      "execution_count": 13,
      "outputs": []
    },
    {
      "cell_type": "markdown",
      "metadata": {},
      "source": [
        "### Rules\n",
        "\n",
        "Here are some examples of how rules are created in PyKnow."
      ]
    },
    {
      "cell_type": "code",
      "metadata": {
        "id": "d9a1ItA0k9bW",
        "colab_type": "code",
        "colab": {}
      },
      "source": [
        "class MyFact(Fact):\n",
        "    pass\n",
        "\n",
        "@Rule(MyFact()) # This is the LHS\n",
        "def matchWithEveryMYFact():\n",
        "    # This is the RHS\n",
        "    pass"
      ],
      "execution_count": 14,
      "outputs": []
    },
    {
      "cell_type": "markdown",
      "metadata": {
        "id": "NB_pZVX6k9bZ",
        "colab_type": "text"
      },
      "source": [
        "For example, let's apply the next rule, math with every Fact which:\n",
        "+ f[0] == 'animal'\n",
        "+ f['family'] == 'felinae'"
      ]
    },
    {
      "cell_type": "code",
      "metadata": {
        "id": "Eije3iPpk9bb",
        "colab_type": "code",
        "colab": {}
      },
      "source": [
        "class MyFact(Fact):\n",
        "    pass\n",
        "\n",
        "@Rule(MyFact('animal', family='felinae'))\n",
        "def match_with_cats():\n",
        "    print(\"Meow!\")"
      ],
      "execution_count": 17,
      "outputs": []
    },
    {
      "cell_type": "markdown",
      "metadata": {
        "id": "PfK1zqmfk9bi",
        "colab_type": "text"
      },
      "source": [
        "Another example, the user is a priviliged one and we are not dropping privileges."
      ]
    },
    {
      "cell_type": "code",
      "metadata": {
        "id": "llfa4lxkk9bk",
        "colab_type": "code",
        "colab": {}
      },
      "source": [
        "class User(Fact):\n",
        "    pass\n",
        "\n",
        "@Rule(User('admin')|User('root'))\n",
        "def the_user_has_power():\n",
        "    enable_superpowers()"
      ],
      "execution_count": 19,
      "outputs": []
    },
    {
      "cell_type": "markdown",
      "metadata": {
        "id": "XskTSWI7k9bn",
        "colab_type": "text"
      },
      "source": [
        "### Conditional Elements (CE)\n",
        "\n",
        "These help us compose patterns in order to form complex rules."
      ]
    },
    {
      "cell_type": "markdown",
      "metadata": {
        "id": "yKJUJWgjk9bo",
        "colab_type": "text"
      },
      "source": [
        "__AND__\n",
        "\n",
        ".This creates a composed pattern containing all Facts passed as arguments. All of the passed patterns must match for the composed pattern to match."
      ]
    },
    {
      "cell_type": "code",
      "metadata": {
        "id": "atuV1sLRk9bp",
        "colab_type": "code",
        "colab": {}
      },
      "source": [
        "# Match if two facts are declared, one martching Fact(1) and other matching Fact(2)\n",
        "@Rule(AND(Fact(1),Fact(2)))\n",
        "def _():\n",
        "    pass"
      ],
      "execution_count": 0,
      "outputs": []
    },
    {
      "cell_type": "markdown",
      "metadata": {
        "id": "iL5nS9bbk9bw",
        "colab_type": "text"
      },
      "source": [
        "__OR__\n",
        "\n",
        "It creates a composed pattern in which any of the given pattern will make the rule match"
      ]
    },
    {
      "cell_type": "code",
      "metadata": {
        "id": "OvYAtmk8k9bx",
        "colab_type": "code",
        "colab": {}
      },
      "source": [
        "# Math if a fact matching Fact(1) exists and/or a fact matching Fact(2)\n",
        "@Rule(OR(Fact(1), Fact(2)))\n",
        "def _():\n",
        "    pass"
      ],
      "execution_count": 0,
      "outputs": []
    },
    {
      "cell_type": "markdown",
      "metadata": {
        "id": "pgaz1IHAk9bz",
        "colab_type": "text"
      },
      "source": [
        "__NOT__\n",
        "\n",
        "This elements matches if the given pattern does not match with any fact or combination of facts. Therefore this element matches the absence of the given pattern"
      ]
    },
    {
      "cell_type": "code",
      "metadata": {
        "id": "VwSrTQfGk9b3",
        "colab_type": "code",
        "colab": {}
      },
      "source": [
        "\n",
        "# Match if not fact with Fact(1)\n",
        "@Rule(NOT(Fact(1)))\n",
        "def _():\n",
        "    pass"
      ],
      "execution_count": 0,
      "outputs": []
    },
    {
      "cell_type": "markdown",
      "metadata": {
        "id": "X7VnlwlLk9b9",
        "colab_type": "text"
      },
      "source": [
        "__TEST__\n",
        "\n",
        "It checks the reveived callable against the current binded values. If the execution returns True the evaluation will continue and stops otherwise."
      ]
    },
    {
      "cell_type": "code",
      "metadata": {
        "id": "bq6od1xek9b_",
        "colab_type": "code",
        "colab": {}
      },
      "source": [
        "# Match for all numbers a, b, c where a > b > c\n",
        "class Number(Fact):\n",
        "    pass\n",
        "\n",
        "@Rule(Number(MATCH.a),\n",
        "    Number(MATCH.b),\n",
        "    TEST(lambda a, b: a > b),\n",
        "    Number(MATCH.c),\n",
        "    TEST(lambda b, c: b > c))\n",
        "def _(a, b, c):\n",
        "    pass"
      ],
      "execution_count": 20,
      "outputs": []
    },
    {
      "cell_type": "markdown",
      "metadata": {
        "id": "hM7IXKlek9cE",
        "colab_type": "text"
      },
      "source": [
        "__EXISTS__\n",
        "\n",
        "EXISTS receives a pattern and matches if one or more facts matches this pattern. This will match only once while one ore more matching facts exists and will stop matching when there is no matching facts."
      ]
    },
    {
      "cell_type": "code",
      "metadata": {
        "id": "Ei2eVarek9cE",
        "colab_type": "code",
        "colab": {}
      },
      "source": [
        "# Match once when one or more Color exists\n",
        "class Color(Fact):\n",
        "    pass\n",
        "\n",
        "@Rule(EXISTS(Color()))\n",
        "def _():\n",
        "    pass"
      ],
      "execution_count": 0,
      "outputs": []
    },
    {
      "cell_type": "markdown",
      "metadata": {
        "id": "mE8dZDnYk9cX",
        "colab_type": "text"
      },
      "source": [
        "## Field Constraints: (FC)\n",
        "\n",
        "__L (Literal Field Constraint)__\n",
        "\n",
        "It allows the program to perform an exact match with the given value. The matching is donde using the equality operator ==."
      ]
    },
    {
      "cell_type": "code",
      "metadata": {
        "id": "uPDuUhtJk9cY",
        "colab_type": "code",
        "colab": {}
      },
      "source": [
        "# Match if the first element is exactly 3\n",
        "@Rule(Fact(L(3)))\n",
        "def _():\n",
        "    pass"
      ],
      "execution_count": 0,
      "outputs": []
    },
    {
      "cell_type": "markdown",
      "metadata": {
        "id": "YvGtnWjfk9cf",
        "colab_type": "text"
      },
      "source": [
        "__W (Wildcard Field Constraint)__\n",
        "\n",
        "This element matches with any value."
      ]
    },
    {
      "cell_type": "code",
      "metadata": {
        "id": "YAgHpRUEk9cf",
        "colab_type": "code",
        "colab": {}
      },
      "source": [
        "# match if some fact is declared with the key mykey\n",
        "@Rule(Fact(mykey=W()))\n",
        "def _():\n",
        "      pass"
      ],
      "execution_count": 0,
      "outputs": []
    },
    {
      "cell_type": "markdown",
      "metadata": {
        "id": "pxsNHebOk9ci",
        "colab_type": "text"
      },
      "source": [
        "__P (Predicate Field Constraint):__\n",
        "\n",
        "The match of this element is the result of applying the given callable to the fact-extracted value. If the callable returns True the FC will match, in other case the FC will not match. "
      ]
    },
    {
      "cell_type": "code",
      "metadata": {
        "id": "Qwb4HGaOk9ci",
        "colab_type": "code",
        "colab": {}
      },
      "source": [
        "# match is some fact is declared whose first parameter is an instance of int\n",
        "@Rule(Fact(P(lambda x: isinstance(x, int))))\n",
        "def _():\n",
        "    pass"
      ],
      "execution_count": 0,
      "outputs": []
    },
    {
      "cell_type": "markdown",
      "metadata": {
        "id": "-H7N8GEJk9cp",
        "colab_type": "text"
      },
      "source": [
        "## Composing FCs: &, | and ~"
      ]
    },
    {
      "cell_type": "markdown",
      "metadata": {
        "id": "t2Fmv2Yuk9cq",
        "colab_type": "text"
      },
      "source": [
        "__ANDFC() - &__\n",
        "\n",
        "The composed FC matches if all the given FC match.\n"
      ]
    },
    {
      "cell_type": "code",
      "metadata": {
        "id": "ig0M1D99k9cs",
        "colab_type": "code",
        "colab": {}
      },
      "source": [
        "# Match if key x of Point is a value between 0 and 255\n",
        "@Rule(Fact(x=P(lambda x: x >= 0) & P(lambda x: x <= 255)))\n",
        "def _():\n",
        "    pass"
      ],
      "execution_count": 0,
      "outputs": []
    },
    {
      "cell_type": "markdown",
      "metadata": {
        "id": "eGRPobCSk9cv",
        "colab_type": "text"
      },
      "source": [
        "__ORFC() - |__\n",
        "\n",
        "The composed FC matches if any of the given FC matches."
      ]
    },
    {
      "cell_type": "code",
      "metadata": {
        "id": "cIWDg-lzk9cw",
        "colab_type": "code",
        "colab": {}
      },
      "source": [
        "@Rule(Fact(name=L('Alice') | L('Bob')))\n",
        "def _():\n",
        "    pass"
      ],
      "execution_count": 0,
      "outputs": []
    },
    {
      "cell_type": "markdown",
      "metadata": {
        "id": "-b8hnBKJk9c0",
        "colab_type": "text"
      },
      "source": [
        "__NOTFC() - ~__\n",
        "\n",
        "This composed FC negates the given FC, reversing the logic FC. "
      ]
    },
    {
      "cell_type": "code",
      "metadata": {
        "id": "v7-LqPTuk9c3",
        "colab_type": "code",
        "colab": {}
      },
      "source": [
        "# Match if name is not Charlie\n",
        "@Rule(Fact(name=~L('Charlie')))\n",
        "def _():\n",
        "    pass"
      ],
      "execution_count": 0,
      "outputs": []
    },
    {
      "cell_type": "markdown",
      "metadata": {
        "id": "1iToFzwAk9c5",
        "colab_type": "text"
      },
      "source": [
        "## Variable Binding: The << Operator\n",
        "\n",
        "Any pattern and some FC's can be binded to a name using the << operator."
      ]
    },
    {
      "cell_type": "code",
      "metadata": {
        "id": "tXZiNdIbk9c6",
        "colab_type": "code",
        "colab": {}
      },
      "source": [
        "# The first value of the matching fact will be blinded to the name value and passed to the function when fired\n",
        "@Rule(Fact('value' << W()))\n",
        "def _(value):\n",
        "    pass"
      ],
      "execution_count": 0,
      "outputs": []
    },
    {
      "cell_type": "markdown",
      "metadata": {
        "id": "YVtYVkAvk9dE",
        "colab_type": "text"
      },
      "source": [
        "### MATCH Object\n",
        "\n",
        "This allows us to generate more readable name bindings."
      ]
    },
    {
      "cell_type": "code",
      "metadata": {
        "id": "EvApkb2ek9dG",
        "colab_type": "code",
        "colab": {}
      },
      "source": [
        "@Rule(Fact(MATCH.myvalue))\n",
        "def _(myvalue):\n",
        "    pass"
      ],
      "execution_count": 0,
      "outputs": []
    },
    {
      "cell_type": "markdown",
      "metadata": {
        "id": "EQyTTkaWk9dI",
        "colab_type": "text"
      },
      "source": [
        "The last example is exactly the same as:\n",
        "\n",
        "```\n",
        "@Rule(Fact('myvalue' << W()))\n",
        "def _(myvalue):\n",
        "    pass\n",
        "```"
      ]
    },
    {
      "cell_type": "markdown",
      "metadata": {
        "id": "zdJh8lKYk9dI",
        "colab_type": "text"
      },
      "source": [
        "### AS Object\n",
        "\n",
        "The AS object like the MATCH object is syntatic sugar for generating bindable names. In this case any attribute requested to the AS object will return a string with the same name."
      ]
    },
    {
      "cell_type": "code",
      "metadata": {
        "id": "MFIKycUIk9dJ",
        "colab_type": "code",
        "colab": {}
      },
      "source": [
        "@Rule(AS.myfact << Fact(W()))\n",
        "def _(myfact):\n",
        "    pass"
      ],
      "execution_count": 0,
      "outputs": []
    },
    {
      "cell_type": "markdown",
      "metadata": {
        "id": "-taPobt9k9dN",
        "colab_type": "text"
      },
      "source": [
        "The last example is exactly the same as:\n",
        "\n",
        "```\n",
        "@Rule(\"myfact\" << Fact(W()))\n",
        "def _(myfact):\n",
        "    pass\n",
        "```"
      ]
    },
    {
      "cell_type": "markdown",
      "metadata": {
        "id": "VWYHs6E9k9dN",
        "colab_type": "text"
      },
      "source": [
        "## Examples"
      ]
    },
    {
      "cell_type": "markdown",
      "metadata": {
        "id": "qrpXxGSyk9dP",
        "colab_type": "text"
      },
      "source": [
        "### Trafic Lights"
      ]
    },
    {
      "cell_type": "markdown",
      "metadata": {
        "id": "P18YPtIWk9dP",
        "colab_type": "text"
      },
      "source": [
        "In the next example we can implement our first hello world of expert systems in Python, look how we made the rules and how we defined their results. "
      ]
    },
    {
      "cell_type": "code",
      "metadata": {
        "id": "W6_dhnoPk9dQ",
        "colab_type": "code",
        "colab": {}
      },
      "source": [
        "from random import choice\n",
        "from pyknow import *\n",
        "\n",
        "class Light(Fact):\n",
        "    \"\"\"Info about the traffic light.\"\"\"\n",
        "    pass\n",
        "\n",
        "\n",
        "class RobotCrossStreet(KnowledgeEngine):\n",
        "    @Rule(Light(color='green'))\n",
        "    def green_light(self):\n",
        "        print(\"Walk\")\n",
        "\n",
        "    @Rule(Light(color='red'))\n",
        "    def red_light(self):\n",
        "        print(\"Don't walk\")\n",
        "\n",
        "    @Rule(AS.light << Light(color=L('yellow') | L('blinking-yellow')))\n",
        "    def cautious(self, light):\n",
        "        print(\"Be cautious because light is\", light[\"color\"])"
      ],
      "execution_count": 21,
      "outputs": []
    },
    {
      "cell_type": "markdown",
      "metadata": {
        "id": "3XCglUEkk9dT",
        "colab_type": "text"
      },
      "source": [
        "The knowledgeEngine is the place where all the magic happens, the first step is to make a subclass of it and use Rule to decorate its methods. The next step is to instantiate it and run it. "
      ]
    },
    {
      "cell_type": "markdown",
      "metadata": {
        "id": "aV-aI5mKk9dU",
        "colab_type": "text"
      },
      "source": [
        "This is the usual process to execute a KnowledgeEngine.\n",
        "\n",
        "+ The class must be instantiated, of course.\n",
        "+ The reset method must be called:\n",
        "    + This declares the special fact InitialFact. Necessary for some rules to work properly.\n",
        "    + Declare all facts yielded by the methods decorated with @DefFacts.\n",
        "+ The run method must be called. This starts the cycle of execution."
      ]
    },
    {
      "cell_type": "code",
      "metadata": {
        "id": "pURt_RTHk9dV",
        "colab_type": "code",
        "outputId": "610b04a6-34fd-4755-8882-494435ff1b38",
        "colab": {
          "base_uri": "https://localhost:8080/",
          "height": 34
        }
      },
      "source": [
        "engine = RobotCrossStreet()\n",
        "engine.reset()\n",
        "engine.declare(Light(color=choice(['green', 'yellow', 'blinking-yellow', 'red'])))\n",
        "engine.run()"
      ],
      "execution_count": 25,
      "outputs": [
        {
          "output_type": "stream",
          "name": "stdout",
          "text": "Be cautious because light is blinking-yellow\n"
        }
      ]
    },
    {
      "cell_type": "markdown",
      "metadata": {
        "id": "bls2r_ook9dY",
        "colab_type": "text"
      },
      "source": [
        "### Chat"
      ]
    },
    {
      "cell_type": "code",
      "metadata": {
        "id": "ax6ry6Z-k9dY",
        "colab_type": "code",
        "outputId": "702906cd-e76e-42e3-890c-fbe374ac65e1",
        "colab": {
          "base_uri": "https://localhost:8080/",
          "height": 68
        }
      },
      "source": [
        "from random import choice\n",
        "from pyknow import *\n",
        "\n",
        "class Greetings(KnowledgeEngine):\n",
        "    # Most of the time expert systems needs a set of facts to be present \n",
        "    # for the system to work. This is the purpose of the DefFacts decorator\n",
        "    @DefFacts()\n",
        "    def _initial_action(self):\n",
        "        yield Fact(action=\"greet\")\n",
        "\n",
        "    @Rule(Fact(action='greet'),\n",
        "          NOT(Fact(name=W())))\n",
        "    def ask_name(self):\n",
        "        self.declare(Fact(name=input(\"What's your name? \")))\n",
        "\n",
        "    @Rule(Fact(action='greet'),\n",
        "          NOT(Fact(location=W())))\n",
        "    def ask_location(self):\n",
        "        self.declare(Fact(location=input(\"Where are you? \")))\n",
        "\n",
        "    @Rule(Fact(action='greet'),\n",
        "          Fact(name=MATCH.name),\n",
        "          Fact(location=MATCH.location))\n",
        "    def greet(self, name, location):\n",
        "        print(\"Hi %s! How is the weather in %s?\" % (name, location))\n",
        "\n",
        "engine = Greetings()\n",
        "engine.reset()  # Prepare the engine for the execution.\n",
        "engine.run()  # Run it!"
      ],
      "execution_count": 0,
      "outputs": [
        {
          "output_type": "stream",
          "text": [
            "Where are you? Cali\n",
            "What's your name? Daniel\n",
            "Hi Daniel! How is the weather in Cali?\n"
          ],
          "name": "stdout"
        }
      ]
    },
    {
      "cell_type": "markdown",
      "metadata": {
        "id": "Ue7h9jjRk9dm",
        "colab_type": "text"
      },
      "source": [
        "## References\n",
        "\n",
        "+ https://media.readthedocs.org/pdf/pyknow/latest/pyknow.pdf\n",
        "+ https://es.slideshare.net/ahmadhussein45/expert-system-with-python-2"
      ]
    }
  ]
}