{
  "nbformat": 4,
  "nbformat_minor": 0,
  "metadata": {
    "colab": {
      "name": "nnet-class-2.ipynb",
      "provenance": [],
      "collapsed_sections": []
    },
    "kernelspec": {
      "name": "python3",
      "display_name": "Python 3"
    },
    "language_info": {
      "codemirror_mode": {
        "name": "ipython",
        "version": 3
      },
      "file_extension": ".py",
      "mimetype": "text/x-python",
      "name": "python",
      "nbconvert_exporter": "python",
      "pygments_lexer": "ipython3",
      "version": "3.7.3"
    },
    "accelerator": "GPU"
  },
  "cells": [
    {
      "cell_type": "markdown",
      "metadata": {
        "colab_type": "text",
        "id": "SfayRXTLqi0f"
      },
      "source": [
        "# Neural Networks with scikit-learn\n",
        "\n",
        "Neural networks are amongst the most complex and flexible machine/deep learning models, due to this, their capability to tackle more complex problems is huge. However, due to this flexibility, they are also easier to overfit, which is why it's the data scientists job to find the correct hyper-parameters for these models.\n",
        "\n",
        "In order to do this, we'll use scikit learn in the same way we always have. In this case, however, neural networks have a lot more than 1 parameter, in case of the multi-layer perceptron models in scikit-learn the parameters are:\n",
        "\n",
        "* hidden_layer_sizes\n",
        "* activation\n",
        "* solver\n",
        "* alpha\n",
        "* batch_size\n",
        "* learning_rate\n",
        "* learning_rate_init\n",
        "* power_t\n",
        "* max_iter\n",
        "* shuffle\n",
        "* random_state\n",
        "* tol\n",
        "* verbose\n",
        "* warm_start\n",
        "* momentum\n",
        "* nesterovs_momentum\n",
        "* early_stopping\n",
        "* validation_fraction\n",
        "* beta_1\n",
        "* beta_2\n",
        "* epsilon\n",
        "* n_iter_no_change\n",
        "\n",
        "You can read more about each one [here](https://scikit-learn.org/stable/modules/generated/sklearn.neural_network.MLPClassifier.html).\n",
        "\n",
        "## The data (MNIST)\n",
        "\n",
        "Let's load the digit data from MNIST."
      ]
    },
    {
      "cell_type": "code",
      "metadata": {
        "id": "uFTzN8HMZ9mX",
        "colab_type": "code",
        "colab": {}
      },
      "source": [
        "from pydrive.auth import GoogleAuth\n",
        "from pydrive.drive import GoogleDrive\n",
        "from google.colab import auth\n",
        "from oauth2client.client import GoogleCredentials\n",
        "\n",
        "auth.authenticate_user()\n",
        "gauth = GoogleAuth()\n",
        "gauth.credentials = GoogleCredentials.get_application_default()\n",
        "drive = GoogleDrive(gauth)"
      ],
      "execution_count": 0,
      "outputs": []
    },
    {
      "cell_type": "code",
      "metadata": {
        "id": "4evrqrAhYOhV",
        "colab_type": "code",
        "colab": {}
      },
      "source": [
        "file_train_id = '1W-PGHpcl6FFV_V1eaPNsyJms9laSdnmt'\n",
        "file_train = drive.CreateFile({'id': file_train_id})\n",
        "file_train.GetContentFile(\"train.csv\")\n",
        "\n",
        "file_test_id = '16uEssOvapZsNvscKcb9KdyRhosPEBukq'\n",
        "file_test = drive.CreateFile({'id': file_test_id})\n",
        "file_test.GetContentFile(\"test.csv\")"
      ],
      "execution_count": 0,
      "outputs": []
    },
    {
      "cell_type": "code",
      "metadata": {
        "colab_type": "code",
        "id": "bl4QgjATp2Nk",
        "colab": {}
      },
      "source": [
        "import pandas as pd\n",
        "\n",
        "data = pd.read_csv(\"train.csv\")\n",
        "test_data = pd.read_csv(\"test.csv\") # Only for Kaggle"
      ],
      "execution_count": 0,
      "outputs": []
    },
    {
      "cell_type": "markdown",
      "metadata": {
        "id": "OsQLymscYFJi",
        "colab_type": "text"
      },
      "source": [
        "We visualize the already familiar data with the modified label type to category."
      ]
    },
    {
      "cell_type": "code",
      "metadata": {
        "id": "_e87ktjHYFJj",
        "colab_type": "code",
        "outputId": "2f446920-014b-4d07-bc6a-76aad2fbad82",
        "colab": {
          "base_uri": "https://localhost:8080/",
          "height": 252
        }
      },
      "source": [
        "data.label = data.label.astype(\"category\")\n",
        "\n",
        "data.head()"
      ],
      "execution_count": 0,
      "outputs": [
        {
          "output_type": "execute_result",
          "data": {
            "text/html": [
              "<div>\n",
              "<style scoped>\n",
              "    .dataframe tbody tr th:only-of-type {\n",
              "        vertical-align: middle;\n",
              "    }\n",
              "\n",
              "    .dataframe tbody tr th {\n",
              "        vertical-align: top;\n",
              "    }\n",
              "\n",
              "    .dataframe thead th {\n",
              "        text-align: right;\n",
              "    }\n",
              "</style>\n",
              "<table border=\"1\" class=\"dataframe\">\n",
              "  <thead>\n",
              "    <tr style=\"text-align: right;\">\n",
              "      <th></th>\n",
              "      <th>label</th>\n",
              "      <th>pixel0</th>\n",
              "      <th>pixel1</th>\n",
              "      <th>pixel2</th>\n",
              "      <th>pixel3</th>\n",
              "      <th>pixel4</th>\n",
              "      <th>pixel5</th>\n",
              "      <th>pixel6</th>\n",
              "      <th>pixel7</th>\n",
              "      <th>pixel8</th>\n",
              "      <th>pixel9</th>\n",
              "      <th>pixel10</th>\n",
              "      <th>pixel11</th>\n",
              "      <th>pixel12</th>\n",
              "      <th>pixel13</th>\n",
              "      <th>pixel14</th>\n",
              "      <th>pixel15</th>\n",
              "      <th>pixel16</th>\n",
              "      <th>pixel17</th>\n",
              "      <th>pixel18</th>\n",
              "      <th>pixel19</th>\n",
              "      <th>pixel20</th>\n",
              "      <th>pixel21</th>\n",
              "      <th>pixel22</th>\n",
              "      <th>pixel23</th>\n",
              "      <th>pixel24</th>\n",
              "      <th>pixel25</th>\n",
              "      <th>pixel26</th>\n",
              "      <th>pixel27</th>\n",
              "      <th>pixel28</th>\n",
              "      <th>pixel29</th>\n",
              "      <th>pixel30</th>\n",
              "      <th>pixel31</th>\n",
              "      <th>pixel32</th>\n",
              "      <th>pixel33</th>\n",
              "      <th>pixel34</th>\n",
              "      <th>pixel35</th>\n",
              "      <th>pixel36</th>\n",
              "      <th>pixel37</th>\n",
              "      <th>pixel38</th>\n",
              "      <th>...</th>\n",
              "      <th>pixel744</th>\n",
              "      <th>pixel745</th>\n",
              "      <th>pixel746</th>\n",
              "      <th>pixel747</th>\n",
              "      <th>pixel748</th>\n",
              "      <th>pixel749</th>\n",
              "      <th>pixel750</th>\n",
              "      <th>pixel751</th>\n",
              "      <th>pixel752</th>\n",
              "      <th>pixel753</th>\n",
              "      <th>pixel754</th>\n",
              "      <th>pixel755</th>\n",
              "      <th>pixel756</th>\n",
              "      <th>pixel757</th>\n",
              "      <th>pixel758</th>\n",
              "      <th>pixel759</th>\n",
              "      <th>pixel760</th>\n",
              "      <th>pixel761</th>\n",
              "      <th>pixel762</th>\n",
              "      <th>pixel763</th>\n",
              "      <th>pixel764</th>\n",
              "      <th>pixel765</th>\n",
              "      <th>pixel766</th>\n",
              "      <th>pixel767</th>\n",
              "      <th>pixel768</th>\n",
              "      <th>pixel769</th>\n",
              "      <th>pixel770</th>\n",
              "      <th>pixel771</th>\n",
              "      <th>pixel772</th>\n",
              "      <th>pixel773</th>\n",
              "      <th>pixel774</th>\n",
              "      <th>pixel775</th>\n",
              "      <th>pixel776</th>\n",
              "      <th>pixel777</th>\n",
              "      <th>pixel778</th>\n",
              "      <th>pixel779</th>\n",
              "      <th>pixel780</th>\n",
              "      <th>pixel781</th>\n",
              "      <th>pixel782</th>\n",
              "      <th>pixel783</th>\n",
              "    </tr>\n",
              "  </thead>\n",
              "  <tbody>\n",
              "    <tr>\n",
              "      <th>0</th>\n",
              "      <td>1</td>\n",
              "      <td>0</td>\n",
              "      <td>0</td>\n",
              "      <td>0</td>\n",
              "      <td>0</td>\n",
              "      <td>0</td>\n",
              "      <td>0</td>\n",
              "      <td>0</td>\n",
              "      <td>0</td>\n",
              "      <td>0</td>\n",
              "      <td>0</td>\n",
              "      <td>0</td>\n",
              "      <td>0</td>\n",
              "      <td>0</td>\n",
              "      <td>0</td>\n",
              "      <td>0</td>\n",
              "      <td>0</td>\n",
              "      <td>0</td>\n",
              "      <td>0</td>\n",
              "      <td>0</td>\n",
              "      <td>0</td>\n",
              "      <td>0</td>\n",
              "      <td>0</td>\n",
              "      <td>0</td>\n",
              "      <td>0</td>\n",
              "      <td>0</td>\n",
              "      <td>0</td>\n",
              "      <td>0</td>\n",
              "      <td>0</td>\n",
              "      <td>0</td>\n",
              "      <td>0</td>\n",
              "      <td>0</td>\n",
              "      <td>0</td>\n",
              "      <td>0</td>\n",
              "      <td>0</td>\n",
              "      <td>0</td>\n",
              "      <td>0</td>\n",
              "      <td>0</td>\n",
              "      <td>0</td>\n",
              "      <td>0</td>\n",
              "      <td>...</td>\n",
              "      <td>0</td>\n",
              "      <td>0</td>\n",
              "      <td>0</td>\n",
              "      <td>0</td>\n",
              "      <td>0</td>\n",
              "      <td>0</td>\n",
              "      <td>0</td>\n",
              "      <td>0</td>\n",
              "      <td>0</td>\n",
              "      <td>0</td>\n",
              "      <td>0</td>\n",
              "      <td>0</td>\n",
              "      <td>0</td>\n",
              "      <td>0</td>\n",
              "      <td>0</td>\n",
              "      <td>0</td>\n",
              "      <td>0</td>\n",
              "      <td>0</td>\n",
              "      <td>0</td>\n",
              "      <td>0</td>\n",
              "      <td>0</td>\n",
              "      <td>0</td>\n",
              "      <td>0</td>\n",
              "      <td>0</td>\n",
              "      <td>0</td>\n",
              "      <td>0</td>\n",
              "      <td>0</td>\n",
              "      <td>0</td>\n",
              "      <td>0</td>\n",
              "      <td>0</td>\n",
              "      <td>0</td>\n",
              "      <td>0</td>\n",
              "      <td>0</td>\n",
              "      <td>0</td>\n",
              "      <td>0</td>\n",
              "      <td>0</td>\n",
              "      <td>0</td>\n",
              "      <td>0</td>\n",
              "      <td>0</td>\n",
              "      <td>0</td>\n",
              "    </tr>\n",
              "    <tr>\n",
              "      <th>1</th>\n",
              "      <td>0</td>\n",
              "      <td>0</td>\n",
              "      <td>0</td>\n",
              "      <td>0</td>\n",
              "      <td>0</td>\n",
              "      <td>0</td>\n",
              "      <td>0</td>\n",
              "      <td>0</td>\n",
              "      <td>0</td>\n",
              "      <td>0</td>\n",
              "      <td>0</td>\n",
              "      <td>0</td>\n",
              "      <td>0</td>\n",
              "      <td>0</td>\n",
              "      <td>0</td>\n",
              "      <td>0</td>\n",
              "      <td>0</td>\n",
              "      <td>0</td>\n",
              "      <td>0</td>\n",
              "      <td>0</td>\n",
              "      <td>0</td>\n",
              "      <td>0</td>\n",
              "      <td>0</td>\n",
              "      <td>0</td>\n",
              "      <td>0</td>\n",
              "      <td>0</td>\n",
              "      <td>0</td>\n",
              "      <td>0</td>\n",
              "      <td>0</td>\n",
              "      <td>0</td>\n",
              "      <td>0</td>\n",
              "      <td>0</td>\n",
              "      <td>0</td>\n",
              "      <td>0</td>\n",
              "      <td>0</td>\n",
              "      <td>0</td>\n",
              "      <td>0</td>\n",
              "      <td>0</td>\n",
              "      <td>0</td>\n",
              "      <td>0</td>\n",
              "      <td>...</td>\n",
              "      <td>0</td>\n",
              "      <td>0</td>\n",
              "      <td>0</td>\n",
              "      <td>0</td>\n",
              "      <td>0</td>\n",
              "      <td>0</td>\n",
              "      <td>0</td>\n",
              "      <td>0</td>\n",
              "      <td>0</td>\n",
              "      <td>0</td>\n",
              "      <td>0</td>\n",
              "      <td>0</td>\n",
              "      <td>0</td>\n",
              "      <td>0</td>\n",
              "      <td>0</td>\n",
              "      <td>0</td>\n",
              "      <td>0</td>\n",
              "      <td>0</td>\n",
              "      <td>0</td>\n",
              "      <td>0</td>\n",
              "      <td>0</td>\n",
              "      <td>0</td>\n",
              "      <td>0</td>\n",
              "      <td>0</td>\n",
              "      <td>0</td>\n",
              "      <td>0</td>\n",
              "      <td>0</td>\n",
              "      <td>0</td>\n",
              "      <td>0</td>\n",
              "      <td>0</td>\n",
              "      <td>0</td>\n",
              "      <td>0</td>\n",
              "      <td>0</td>\n",
              "      <td>0</td>\n",
              "      <td>0</td>\n",
              "      <td>0</td>\n",
              "      <td>0</td>\n",
              "      <td>0</td>\n",
              "      <td>0</td>\n",
              "      <td>0</td>\n",
              "    </tr>\n",
              "    <tr>\n",
              "      <th>2</th>\n",
              "      <td>1</td>\n",
              "      <td>0</td>\n",
              "      <td>0</td>\n",
              "      <td>0</td>\n",
              "      <td>0</td>\n",
              "      <td>0</td>\n",
              "      <td>0</td>\n",
              "      <td>0</td>\n",
              "      <td>0</td>\n",
              "      <td>0</td>\n",
              "      <td>0</td>\n",
              "      <td>0</td>\n",
              "      <td>0</td>\n",
              "      <td>0</td>\n",
              "      <td>0</td>\n",
              "      <td>0</td>\n",
              "      <td>0</td>\n",
              "      <td>0</td>\n",
              "      <td>0</td>\n",
              "      <td>0</td>\n",
              "      <td>0</td>\n",
              "      <td>0</td>\n",
              "      <td>0</td>\n",
              "      <td>0</td>\n",
              "      <td>0</td>\n",
              "      <td>0</td>\n",
              "      <td>0</td>\n",
              "      <td>0</td>\n",
              "      <td>0</td>\n",
              "      <td>0</td>\n",
              "      <td>0</td>\n",
              "      <td>0</td>\n",
              "      <td>0</td>\n",
              "      <td>0</td>\n",
              "      <td>0</td>\n",
              "      <td>0</td>\n",
              "      <td>0</td>\n",
              "      <td>0</td>\n",
              "      <td>0</td>\n",
              "      <td>0</td>\n",
              "      <td>...</td>\n",
              "      <td>0</td>\n",
              "      <td>0</td>\n",
              "      <td>0</td>\n",
              "      <td>0</td>\n",
              "      <td>0</td>\n",
              "      <td>0</td>\n",
              "      <td>0</td>\n",
              "      <td>0</td>\n",
              "      <td>0</td>\n",
              "      <td>0</td>\n",
              "      <td>0</td>\n",
              "      <td>0</td>\n",
              "      <td>0</td>\n",
              "      <td>0</td>\n",
              "      <td>0</td>\n",
              "      <td>0</td>\n",
              "      <td>0</td>\n",
              "      <td>0</td>\n",
              "      <td>0</td>\n",
              "      <td>0</td>\n",
              "      <td>0</td>\n",
              "      <td>0</td>\n",
              "      <td>0</td>\n",
              "      <td>0</td>\n",
              "      <td>0</td>\n",
              "      <td>0</td>\n",
              "      <td>0</td>\n",
              "      <td>0</td>\n",
              "      <td>0</td>\n",
              "      <td>0</td>\n",
              "      <td>0</td>\n",
              "      <td>0</td>\n",
              "      <td>0</td>\n",
              "      <td>0</td>\n",
              "      <td>0</td>\n",
              "      <td>0</td>\n",
              "      <td>0</td>\n",
              "      <td>0</td>\n",
              "      <td>0</td>\n",
              "      <td>0</td>\n",
              "    </tr>\n",
              "    <tr>\n",
              "      <th>3</th>\n",
              "      <td>4</td>\n",
              "      <td>0</td>\n",
              "      <td>0</td>\n",
              "      <td>0</td>\n",
              "      <td>0</td>\n",
              "      <td>0</td>\n",
              "      <td>0</td>\n",
              "      <td>0</td>\n",
              "      <td>0</td>\n",
              "      <td>0</td>\n",
              "      <td>0</td>\n",
              "      <td>0</td>\n",
              "      <td>0</td>\n",
              "      <td>0</td>\n",
              "      <td>0</td>\n",
              "      <td>0</td>\n",
              "      <td>0</td>\n",
              "      <td>0</td>\n",
              "      <td>0</td>\n",
              "      <td>0</td>\n",
              "      <td>0</td>\n",
              "      <td>0</td>\n",
              "      <td>0</td>\n",
              "      <td>0</td>\n",
              "      <td>0</td>\n",
              "      <td>0</td>\n",
              "      <td>0</td>\n",
              "      <td>0</td>\n",
              "      <td>0</td>\n",
              "      <td>0</td>\n",
              "      <td>0</td>\n",
              "      <td>0</td>\n",
              "      <td>0</td>\n",
              "      <td>0</td>\n",
              "      <td>0</td>\n",
              "      <td>0</td>\n",
              "      <td>0</td>\n",
              "      <td>0</td>\n",
              "      <td>0</td>\n",
              "      <td>0</td>\n",
              "      <td>...</td>\n",
              "      <td>0</td>\n",
              "      <td>0</td>\n",
              "      <td>0</td>\n",
              "      <td>0</td>\n",
              "      <td>0</td>\n",
              "      <td>0</td>\n",
              "      <td>0</td>\n",
              "      <td>0</td>\n",
              "      <td>0</td>\n",
              "      <td>0</td>\n",
              "      <td>0</td>\n",
              "      <td>0</td>\n",
              "      <td>0</td>\n",
              "      <td>0</td>\n",
              "      <td>0</td>\n",
              "      <td>0</td>\n",
              "      <td>0</td>\n",
              "      <td>0</td>\n",
              "      <td>0</td>\n",
              "      <td>0</td>\n",
              "      <td>0</td>\n",
              "      <td>0</td>\n",
              "      <td>0</td>\n",
              "      <td>0</td>\n",
              "      <td>0</td>\n",
              "      <td>0</td>\n",
              "      <td>0</td>\n",
              "      <td>0</td>\n",
              "      <td>0</td>\n",
              "      <td>0</td>\n",
              "      <td>0</td>\n",
              "      <td>0</td>\n",
              "      <td>0</td>\n",
              "      <td>0</td>\n",
              "      <td>0</td>\n",
              "      <td>0</td>\n",
              "      <td>0</td>\n",
              "      <td>0</td>\n",
              "      <td>0</td>\n",
              "      <td>0</td>\n",
              "    </tr>\n",
              "    <tr>\n",
              "      <th>4</th>\n",
              "      <td>0</td>\n",
              "      <td>0</td>\n",
              "      <td>0</td>\n",
              "      <td>0</td>\n",
              "      <td>0</td>\n",
              "      <td>0</td>\n",
              "      <td>0</td>\n",
              "      <td>0</td>\n",
              "      <td>0</td>\n",
              "      <td>0</td>\n",
              "      <td>0</td>\n",
              "      <td>0</td>\n",
              "      <td>0</td>\n",
              "      <td>0</td>\n",
              "      <td>0</td>\n",
              "      <td>0</td>\n",
              "      <td>0</td>\n",
              "      <td>0</td>\n",
              "      <td>0</td>\n",
              "      <td>0</td>\n",
              "      <td>0</td>\n",
              "      <td>0</td>\n",
              "      <td>0</td>\n",
              "      <td>0</td>\n",
              "      <td>0</td>\n",
              "      <td>0</td>\n",
              "      <td>0</td>\n",
              "      <td>0</td>\n",
              "      <td>0</td>\n",
              "      <td>0</td>\n",
              "      <td>0</td>\n",
              "      <td>0</td>\n",
              "      <td>0</td>\n",
              "      <td>0</td>\n",
              "      <td>0</td>\n",
              "      <td>0</td>\n",
              "      <td>0</td>\n",
              "      <td>0</td>\n",
              "      <td>0</td>\n",
              "      <td>0</td>\n",
              "      <td>...</td>\n",
              "      <td>0</td>\n",
              "      <td>0</td>\n",
              "      <td>0</td>\n",
              "      <td>0</td>\n",
              "      <td>0</td>\n",
              "      <td>0</td>\n",
              "      <td>0</td>\n",
              "      <td>0</td>\n",
              "      <td>0</td>\n",
              "      <td>0</td>\n",
              "      <td>0</td>\n",
              "      <td>0</td>\n",
              "      <td>0</td>\n",
              "      <td>0</td>\n",
              "      <td>0</td>\n",
              "      <td>0</td>\n",
              "      <td>0</td>\n",
              "      <td>0</td>\n",
              "      <td>0</td>\n",
              "      <td>0</td>\n",
              "      <td>0</td>\n",
              "      <td>0</td>\n",
              "      <td>0</td>\n",
              "      <td>0</td>\n",
              "      <td>0</td>\n",
              "      <td>0</td>\n",
              "      <td>0</td>\n",
              "      <td>0</td>\n",
              "      <td>0</td>\n",
              "      <td>0</td>\n",
              "      <td>0</td>\n",
              "      <td>0</td>\n",
              "      <td>0</td>\n",
              "      <td>0</td>\n",
              "      <td>0</td>\n",
              "      <td>0</td>\n",
              "      <td>0</td>\n",
              "      <td>0</td>\n",
              "      <td>0</td>\n",
              "      <td>0</td>\n",
              "    </tr>\n",
              "  </tbody>\n",
              "</table>\n",
              "<p>5 rows × 785 columns</p>\n",
              "</div>"
            ],
            "text/plain": [
              "  label  pixel0  pixel1  pixel2  ...  pixel780  pixel781  pixel782  pixel783\n",
              "0     1       0       0       0  ...         0         0         0         0\n",
              "1     0       0       0       0  ...         0         0         0         0\n",
              "2     1       0       0       0  ...         0         0         0         0\n",
              "3     4       0       0       0  ...         0         0         0         0\n",
              "4     0       0       0       0  ...         0         0         0         0\n",
              "\n",
              "[5 rows x 785 columns]"
            ]
          },
          "metadata": {
            "tags": []
          },
          "execution_count": 4
        }
      ]
    },
    {
      "cell_type": "markdown",
      "metadata": {
        "id": "_uEcBoSaYFJm",
        "colab_type": "text"
      },
      "source": [
        "We split the data set into a test and training set."
      ]
    },
    {
      "cell_type": "code",
      "metadata": {
        "id": "HwpsgXocYFJn",
        "colab_type": "code",
        "colab": {}
      },
      "source": [
        "from sklearn.model_selection import train_test_split\n",
        "\n",
        "x_train, x_test, y_train, y_test = train_test_split(data.drop(\"label\", axis = 1), data.label, test_size = 0.3)"
      ],
      "execution_count": 0,
      "outputs": []
    },
    {
      "cell_type": "markdown",
      "metadata": {
        "id": "ibMAJqWyYFJp",
        "colab_type": "text"
      },
      "source": [
        "## The network\n",
        "\n",
        "This classifier is a dense neural network, which can be visualized as:\n",
        "\n",
        "![By Glosser.ca - Own work, Derivative of File:Artificial neural network.svg, CC BY-SA 3.0, https://commons.wikimedia.org/w/index.php?curid=24913461](https://github.com/ClementFelipe/ai-class-lab/blob/master/07-deep-learning/resources/nnet.png?raw=1)\n",
        "\n",
        "This network architecture is the **MLPClassifier** in scikit-learn, first we will try a network with one hidden with default parameters."
      ]
    },
    {
      "cell_type": "code",
      "metadata": {
        "id": "tpTVTKvFYFJp",
        "colab_type": "code",
        "outputId": "2d62bf63-2649-43e5-9e4b-6e80943524b3",
        "colab": {
          "base_uri": "https://localhost:8080/",
          "height": 1000
        }
      },
      "source": [
        "from sklearn.neural_network import MLPClassifier\n",
        "\n",
        "net = MLPClassifier(verbose = True)\n",
        "net.fit(x_train, y_train)"
      ],
      "execution_count": 0,
      "outputs": [
        {
          "output_type": "stream",
          "text": [
            "Iteration 1, loss = 8.69544639\n",
            "Iteration 2, loss = 1.45531198\n",
            "Iteration 3, loss = 0.74634259\n",
            "Iteration 4, loss = 0.48005803\n",
            "Iteration 5, loss = 0.34788734\n",
            "Iteration 6, loss = 0.27587872\n",
            "Iteration 7, loss = 0.21212238\n",
            "Iteration 8, loss = 0.18024399\n",
            "Iteration 9, loss = 0.14741928\n",
            "Iteration 10, loss = 0.13244188\n",
            "Iteration 11, loss = 0.11657773\n",
            "Iteration 12, loss = 0.10906752\n",
            "Iteration 13, loss = 0.10349047\n",
            "Iteration 14, loss = 0.09122203\n",
            "Iteration 15, loss = 0.07936778\n",
            "Iteration 16, loss = 0.07627667\n",
            "Iteration 17, loss = 0.07693813\n",
            "Iteration 18, loss = 0.08383788\n",
            "Iteration 19, loss = 0.08001242\n",
            "Iteration 20, loss = 0.07839557\n",
            "Iteration 21, loss = 0.06583349\n",
            "Iteration 22, loss = 0.09413323\n",
            "Iteration 23, loss = 0.09862921\n",
            "Iteration 24, loss = 0.09091375\n",
            "Iteration 25, loss = 0.07865257\n",
            "Iteration 26, loss = 0.07017265\n",
            "Iteration 27, loss = 0.05955003\n",
            "Iteration 28, loss = 0.07659591\n",
            "Iteration 29, loss = 0.07059128\n",
            "Iteration 30, loss = 0.06556007\n",
            "Iteration 31, loss = 0.07426077\n",
            "Iteration 32, loss = 0.06726139\n",
            "Iteration 33, loss = 0.06844216\n",
            "Iteration 34, loss = 0.05927444\n",
            "Iteration 35, loss = 0.05119832\n",
            "Iteration 36, loss = 0.05077032\n",
            "Iteration 37, loss = 0.07214614\n",
            "Iteration 38, loss = 0.08069476\n",
            "Iteration 39, loss = 0.06636168\n",
            "Iteration 40, loss = 0.05365673\n",
            "Iteration 41, loss = 0.06366938\n",
            "Iteration 42, loss = 0.05371240\n",
            "Iteration 43, loss = 0.05142404\n",
            "Iteration 44, loss = 0.04745795\n",
            "Iteration 45, loss = 0.05090489\n",
            "Iteration 46, loss = 0.06514961\n",
            "Iteration 47, loss = 0.04465414\n",
            "Iteration 48, loss = 0.04071883\n",
            "Iteration 49, loss = 0.03420968\n",
            "Iteration 50, loss = 0.03562134\n",
            "Iteration 51, loss = 0.04066367\n",
            "Iteration 52, loss = 0.05234354\n",
            "Iteration 53, loss = 0.05429858\n",
            "Iteration 54, loss = 0.05824946\n",
            "Iteration 55, loss = 0.04849014\n",
            "Iteration 56, loss = 0.06121649\n",
            "Iteration 57, loss = 0.04492501\n",
            "Iteration 58, loss = 0.03650786\n",
            "Iteration 59, loss = 0.03799810\n",
            "Iteration 60, loss = 0.05107061\n",
            "Training loss did not improve more than tol=0.000100 for 10 consecutive epochs. Stopping.\n"
          ],
          "name": "stdout"
        },
        {
          "output_type": "execute_result",
          "data": {
            "text/plain": [
              "MLPClassifier(activation='relu', alpha=0.0001, batch_size='auto', beta_1=0.9,\n",
              "              beta_2=0.999, early_stopping=False, epsilon=1e-08,\n",
              "              hidden_layer_sizes=(100,), learning_rate='constant',\n",
              "              learning_rate_init=0.001, max_iter=200, momentum=0.9,\n",
              "              n_iter_no_change=10, nesterovs_momentum=True, power_t=0.5,\n",
              "              random_state=None, shuffle=True, solver='adam', tol=0.0001,\n",
              "              validation_fraction=0.1, verbose=True, warm_start=False)"
            ]
          },
          "metadata": {
            "tags": []
          },
          "execution_count": 6
        }
      ]
    },
    {
      "cell_type": "markdown",
      "metadata": {
        "id": "Tn8e-8jOYFJs",
        "colab_type": "text"
      },
      "source": [
        "Notice the default parameters above after the description of the epochs (iterations).\n",
        "\n",
        "Now we can visualize it's accuracy in the test set."
      ]
    },
    {
      "cell_type": "code",
      "metadata": {
        "id": "iDz77g59YFJs",
        "colab_type": "code",
        "outputId": "2cd5520f-c5d4-4539-ebe9-6a00db3fefe6",
        "colab": {
          "base_uri": "https://localhost:8080/",
          "height": 34
        }
      },
      "source": [
        "net.score(x_test, y_test)"
      ],
      "execution_count": 0,
      "outputs": [
        {
          "output_type": "execute_result",
          "data": {
            "text/plain": [
              "0.9505555555555556"
            ]
          },
          "metadata": {
            "tags": []
          },
          "execution_count": 7
        }
      ]
    },
    {
      "cell_type": "markdown",
      "metadata": {
        "id": "qRRZKV_UYFJv",
        "colab_type": "text"
      },
      "source": [
        "Out of the box, this model will give us an accuracy of 95-96%. Let's explore some basic parameters and what they mean.\n",
        "\n",
        "### Learning rate (learning_rate_init)\n",
        "\n",
        "This parameter controls the size of the \"steps\" a network takes when performing gradient descent, if this is too low, the network will take very long to converge, if it's too high, it might diverge instead, let's see some examples.\n",
        "\n",
        "Also below is a visualization of how the learning rates behave."
      ]
    },
    {
      "cell_type": "code",
      "metadata": {
        "id": "HV3_xKduYFJw",
        "colab_type": "code",
        "outputId": "1f91960a-2513-4524-fc05-4a3225eb2a25",
        "colab": {
          "base_uri": "https://localhost:8080/",
          "height": 491
        }
      },
      "source": [
        "import matplotlib.pyplot as plt\n",
        "\n",
        "learning_rates = [0.0001, 0.001, 0.01, 0.1]\n",
        "scores = []\n",
        "\n",
        "for lr in learning_rates:\n",
        "    print(f\"-----------Starting training with lr {lr}\")\n",
        "    model = MLPClassifier(learning_rate_init = lr, verbose = False, max_iter=25)\n",
        "    model.fit(x_train, y_train)\n",
        "    score = model.score(x_test, y_test)\n",
        "\n",
        "    plt.plot(model.loss_curve_, label=lr)\n",
        "\n",
        "    scores.append(score)\n",
        "    print(f\"-----------Finished lr {lr} with score {score}\")\n",
        "plt.legend()\n",
        "plt.show()"
      ],
      "execution_count": 0,
      "outputs": [
        {
          "output_type": "stream",
          "text": [
            "-----------Starting training with lr 0.0001\n"
          ],
          "name": "stdout"
        },
        {
          "output_type": "stream",
          "text": [
            "/usr/local/lib/python3.6/dist-packages/sklearn/neural_network/multilayer_perceptron.py:566: ConvergenceWarning: Stochastic Optimizer: Maximum iterations (25) reached and the optimization hasn't converged yet.\n",
            "  % self.max_iter, ConvergenceWarning)\n"
          ],
          "name": "stderr"
        },
        {
          "output_type": "stream",
          "text": [
            "-----------Finished lr 0.0001 with score 0.9188095238095239\n",
            "-----------Starting training with lr 0.001\n"
          ],
          "name": "stdout"
        },
        {
          "output_type": "stream",
          "text": [
            "/usr/local/lib/python3.6/dist-packages/sklearn/neural_network/multilayer_perceptron.py:566: ConvergenceWarning: Stochastic Optimizer: Maximum iterations (25) reached and the optimization hasn't converged yet.\n",
            "  % self.max_iter, ConvergenceWarning)\n"
          ],
          "name": "stderr"
        },
        {
          "output_type": "stream",
          "text": [
            "-----------Finished lr 0.001 with score 0.9454761904761905\n",
            "-----------Starting training with lr 0.01\n",
            "-----------Finished lr 0.01 with score 0.8374603174603175\n",
            "-----------Starting training with lr 0.1\n",
            "-----------Finished lr 0.1 with score 0.10095238095238095\n"
          ],
          "name": "stdout"
        },
        {
          "output_type": "display_data",
          "data": {
            "image/png": "[encoded data removed]",
            "text/plain": [
              "<Figure size 432x288 with 1 Axes>"
            ]
          },
          "metadata": {
            "tags": []
          }
        }
      ]
    },
    {
      "cell_type": "markdown",
      "metadata": {
        "id": "It4wBg0jYFJy",
        "colab_type": "text"
      },
      "source": [
        "We can see that low learning rates will take very long to converge and as such don't achieve good accuracy given the same number of epochs. Now we visualize the results."
      ]
    },
    {
      "cell_type": "code",
      "metadata": {
        "id": "H3K4r9gKYFJz",
        "colab_type": "code",
        "outputId": "5cfa230e-f4f7-4de3-90fa-8354b07a3f85",
        "colab": {
          "base_uri": "https://localhost:8080/",
          "height": 282
        }
      },
      "source": [
        "plt.plot(learning_rates, scores)\n",
        "plt.scatter(learning_rates, scores)"
      ],
      "execution_count": 0,
      "outputs": [
        {
          "output_type": "execute_result",
          "data": {
            "text/plain": [
              "<matplotlib.collections.PathCollection at 0x7ffa35e01780>"
            ]
          },
          "metadata": {
            "tags": []
          },
          "execution_count": 13
        },
        {
          "output_type": "display_data",
          "data": {
            "image/png": "[encoded data removed]",
            "text/plain": [
              "<Figure size 432x288 with 1 Axes>"
            ]
          },
          "metadata": {
            "tags": []
          }
        }
      ]
    },
    {
      "cell_type": "markdown",
      "metadata": {
        "id": "4foV3ycLnrLB",
        "colab_type": "text"
      },
      "source": [
        "We can see that as the learning rate increases too much, accuracy immediately drops due to the model diverging, whereas when the learning rate is low, it has lower accuracy than the higher (but not too high) learning rates after it.\n",
        "\n",
        "Now let's keep this learning rate and see the effect of the number of epochs.\n",
        "\n",
        "### Epochs (max_iter)\n",
        "\n",
        "This parameter controls how many times tha dataset will perform backpropagation, this means how many times the data will pass through (feed-forward) the data and adjust it's weights (back-propagation)."
      ]
    },
    {
      "cell_type": "code",
      "metadata": {
        "id": "_8Rn85uAnnZO",
        "colab_type": "code",
        "outputId": "5e3e39ba-2aa4-41d7-a261-25111b8c76b9",
        "colab": {
          "base_uri": "https://localhost:8080/",
          "height": 517
        }
      },
      "source": [
        "n_iters = [2, 4, 8, 16, 32, 64, 128]\n",
        "scores = []\n",
        "\n",
        "for n in n_iters:\n",
        "    print(f\"-----------Starting training with n_iter {n}\")\n",
        "    model = MLPClassifier(verbose = False, max_iter=n, n_iter_no_change = int(n/2), tol=1e-8)\n",
        "    model.fit(x_train, y_train)\n",
        "    score = model.score(x_test, y_test)\n",
        "    scores.append(score)\n",
        "    print(f\"-----------Finished n_iter {n} with score {score}\")"
      ],
      "execution_count": 0,
      "outputs": [
        {
          "output_type": "stream",
          "text": [
            "-----------Starting training with n_iter 2\n"
          ],
          "name": "stdout"
        },
        {
          "output_type": "stream",
          "text": [
            "/usr/local/lib/python3.6/dist-packages/sklearn/neural_network/multilayer_perceptron.py:566: ConvergenceWarning: Stochastic Optimizer: Maximum iterations (2) reached and the optimization hasn't converged yet.\n",
            "  % self.max_iter, ConvergenceWarning)\n"
          ],
          "name": "stderr"
        },
        {
          "output_type": "stream",
          "text": [
            "-----------Finished n_iter 2 with score 0.8969047619047619\n",
            "-----------Starting training with n_iter 4\n"
          ],
          "name": "stdout"
        },
        {
          "output_type": "stream",
          "text": [
            "/usr/local/lib/python3.6/dist-packages/sklearn/neural_network/multilayer_perceptron.py:566: ConvergenceWarning: Stochastic Optimizer: Maximum iterations (4) reached and the optimization hasn't converged yet.\n",
            "  % self.max_iter, ConvergenceWarning)\n"
          ],
          "name": "stderr"
        },
        {
          "output_type": "stream",
          "text": [
            "-----------Finished n_iter 4 with score 0.9128571428571428\n",
            "-----------Starting training with n_iter 8\n"
          ],
          "name": "stdout"
        },
        {
          "output_type": "stream",
          "text": [
            "/usr/local/lib/python3.6/dist-packages/sklearn/neural_network/multilayer_perceptron.py:566: ConvergenceWarning: Stochastic Optimizer: Maximum iterations (8) reached and the optimization hasn't converged yet.\n",
            "  % self.max_iter, ConvergenceWarning)\n"
          ],
          "name": "stderr"
        },
        {
          "output_type": "stream",
          "text": [
            "-----------Finished n_iter 8 with score 0.9205555555555556\n",
            "-----------Starting training with n_iter 16\n"
          ],
          "name": "stdout"
        },
        {
          "output_type": "stream",
          "text": [
            "/usr/local/lib/python3.6/dist-packages/sklearn/neural_network/multilayer_perceptron.py:566: ConvergenceWarning: Stochastic Optimizer: Maximum iterations (16) reached and the optimization hasn't converged yet.\n",
            "  % self.max_iter, ConvergenceWarning)\n"
          ],
          "name": "stderr"
        },
        {
          "output_type": "stream",
          "text": [
            "-----------Finished n_iter 16 with score 0.9307142857142857\n",
            "-----------Starting training with n_iter 32\n"
          ],
          "name": "stdout"
        },
        {
          "output_type": "stream",
          "text": [
            "/usr/local/lib/python3.6/dist-packages/sklearn/neural_network/multilayer_perceptron.py:566: ConvergenceWarning: Stochastic Optimizer: Maximum iterations (32) reached and the optimization hasn't converged yet.\n",
            "  % self.max_iter, ConvergenceWarning)\n"
          ],
          "name": "stderr"
        },
        {
          "output_type": "stream",
          "text": [
            "-----------Finished n_iter 32 with score 0.948015873015873\n",
            "-----------Starting training with n_iter 64\n"
          ],
          "name": "stdout"
        },
        {
          "output_type": "stream",
          "text": [
            "/usr/local/lib/python3.6/dist-packages/sklearn/neural_network/multilayer_perceptron.py:566: ConvergenceWarning: Stochastic Optimizer: Maximum iterations (64) reached and the optimization hasn't converged yet.\n",
            "  % self.max_iter, ConvergenceWarning)\n"
          ],
          "name": "stderr"
        },
        {
          "output_type": "stream",
          "text": [
            "-----------Finished n_iter 64 with score 0.9566666666666667\n",
            "-----------Starting training with n_iter 128\n",
            "-----------Finished n_iter 128 with score 0.9626190476190476\n"
          ],
          "name": "stdout"
        },
        {
          "output_type": "stream",
          "text": [
            "/usr/local/lib/python3.6/dist-packages/sklearn/neural_network/multilayer_perceptron.py:566: ConvergenceWarning: Stochastic Optimizer: Maximum iterations (128) reached and the optimization hasn't converged yet.\n",
            "  % self.max_iter, ConvergenceWarning)\n"
          ],
          "name": "stderr"
        }
      ]
    },
    {
      "cell_type": "markdown",
      "metadata": {
        "id": "tF2bTAy1rg4O",
        "colab_type": "text"
      },
      "source": [
        "We can see that as the number of epochs increases, our accuracy does too."
      ]
    },
    {
      "cell_type": "code",
      "metadata": {
        "id": "u7LL5iDbre1q",
        "colab_type": "code",
        "outputId": "6d787386-81bb-4371-e1ff-4bc4b6395a7f",
        "colab": {
          "base_uri": "https://localhost:8080/",
          "height": 282
        }
      },
      "source": [
        "plt.plot(n_iters, scores)\n",
        "plt.scatter(n_iters, scores)"
      ],
      "execution_count": 0,
      "outputs": [
        {
          "output_type": "execute_result",
          "data": {
            "text/plain": [
              "<matplotlib.collections.PathCollection at 0x7f7de1f2f160>"
            ]
          },
          "metadata": {
            "tags": []
          },
          "execution_count": 11
        },
        {
          "output_type": "display_data",
          "data": {
            "image/png": "[encoded data removed]",
            "text/plain": [
              "<Figure size 432x288 with 1 Axes>"
            ]
          },
          "metadata": {
            "tags": []
          }
        }
      ]
    },
    {
      "cell_type": "markdown",
      "metadata": {
        "id": "jnoPPa9xYFJ2",
        "colab_type": "text"
      },
      "source": [
        "### Layers (hidden_layer_sizes)\n",
        "\n",
        "Now let's try modifying the layers, we will try 1 hidden layer with 100 neurons (default), 2 hidden layers with 20 and 10 neurons, 3 hidden layers with 30, 20 and 10 neurons and 4 hidden layers with 100, 30, 20, 10 neurons. We will use a learning rate of 0.001 (default)."
      ]
    },
    {
      "cell_type": "code",
      "metadata": {
        "id": "rN40KzZcYFJ3",
        "colab_type": "code",
        "outputId": "b2df43ad-b853-4950-e234-c73e9802a950",
        "colab": {
          "base_uri": "https://localhost:8080/",
          "height": 309
        }
      },
      "source": [
        "layers = [(100), (100, 10), (100, 50, 10), (100, 50, 20, 10)]\n",
        "scores = []\n",
        "\n",
        "for lyr in layers:\n",
        "    print(f\"-----------Starting training with lr {lyr}\")\n",
        "    model = MLPClassifier(hidden_layer_sizes = lyr, verbose = False, max_iter=50, n_iter_no_change = 40, tol = 1e-8)\n",
        "    model.fit(x_train, y_train)\n",
        "    score = model.score(x_test, y_test)\n",
        "    scores.append(score)\n",
        "    print(f\"-----------Finished lr {lyr} with score {score}\")"
      ],
      "execution_count": 0,
      "outputs": [
        {
          "output_type": "stream",
          "text": [
            "-----------Starting training with lr 100\n"
          ],
          "name": "stdout"
        },
        {
          "output_type": "stream",
          "text": [
            "/usr/local/lib/python3.6/dist-packages/sklearn/neural_network/multilayer_perceptron.py:566: ConvergenceWarning: Stochastic Optimizer: Maximum iterations (50) reached and the optimization hasn't converged yet.\n",
            "  % self.max_iter, ConvergenceWarning)\n"
          ],
          "name": "stderr"
        },
        {
          "output_type": "stream",
          "text": [
            "-----------Finished lr 100 with score 0.9511111111111111\n",
            "-----------Starting training with lr (100, 10)\n"
          ],
          "name": "stdout"
        },
        {
          "output_type": "stream",
          "text": [
            "/usr/local/lib/python3.6/dist-packages/sklearn/neural_network/multilayer_perceptron.py:566: ConvergenceWarning: Stochastic Optimizer: Maximum iterations (50) reached and the optimization hasn't converged yet.\n",
            "  % self.max_iter, ConvergenceWarning)\n"
          ],
          "name": "stderr"
        },
        {
          "output_type": "stream",
          "text": [
            "-----------Finished lr (100, 10) with score 0.9519047619047619\n",
            "-----------Starting training with lr (100, 50, 10)\n"
          ],
          "name": "stdout"
        },
        {
          "output_type": "stream",
          "text": [
            "/usr/local/lib/python3.6/dist-packages/sklearn/neural_network/multilayer_perceptron.py:566: ConvergenceWarning: Stochastic Optimizer: Maximum iterations (50) reached and the optimization hasn't converged yet.\n",
            "  % self.max_iter, ConvergenceWarning)\n"
          ],
          "name": "stderr"
        },
        {
          "output_type": "stream",
          "text": [
            "-----------Finished lr (100, 50, 10) with score 0.9545238095238096\n",
            "-----------Starting training with lr (100, 50, 20, 10)\n",
            "-----------Finished lr (100, 50, 20, 10) with score 0.9611111111111111\n"
          ],
          "name": "stdout"
        },
        {
          "output_type": "stream",
          "text": [
            "/usr/local/lib/python3.6/dist-packages/sklearn/neural_network/multilayer_perceptron.py:566: ConvergenceWarning: Stochastic Optimizer: Maximum iterations (50) reached and the optimization hasn't converged yet.\n",
            "  % self.max_iter, ConvergenceWarning)\n"
          ],
          "name": "stderr"
        }
      ]
    },
    {
      "cell_type": "markdown",
      "metadata": {
        "id": "QNXjV-mXYFJ5",
        "colab_type": "text"
      },
      "source": [
        "We can see that all results are similar, let's try something a bit deeper. (takes long to execute)"
      ]
    },
    {
      "cell_type": "code",
      "metadata": {
        "id": "yJEm53oSYFJ6",
        "colab_type": "code",
        "outputId": "77987831-f8a0-4daf-ab2b-092776ea6506",
        "colab": {
          "base_uri": "https://localhost:8080/",
          "height": 258
        }
      },
      "source": [
        "model = MLPClassifier(hidden_layer_sizes = (2500, 2000, 1500, 1000, 500), verbose = True, max_iter = 10, n_iter_no_change = 10, tol = 0.0000005)\n",
        "model.fit(x_train, y_train)\n",
        "model.score(x_test, y_test)"
      ],
      "execution_count": 0,
      "outputs": [
        {
          "output_type": "stream",
          "text": [
            "Iteration 1, loss = inf\n",
            "Iteration 2, loss = 0.14055122\n",
            "Iteration 3, loss = 0.09505866\n",
            "Iteration 4, loss = 0.06967283\n",
            "Iteration 5, loss = 0.05815726\n",
            "Iteration 6, loss = 0.05251947\n",
            "Iteration 7, loss = 0.04786868\n",
            "Iteration 8, loss = 0.04045275\n",
            "Iteration 9, loss = 0.03728171\n",
            "Iteration 10, loss = 0.03630677\n"
          ],
          "name": "stdout"
        },
        {
          "output_type": "stream",
          "text": [
            "/usr/local/lib/python3.6/dist-packages/sklearn/neural_network/multilayer_perceptron.py:566: ConvergenceWarning: Stochastic Optimizer: Maximum iterations (10) reached and the optimization hasn't converged yet.\n",
            "  % self.max_iter, ConvergenceWarning)\n"
          ],
          "name": "stderr"
        },
        {
          "output_type": "execute_result",
          "data": {
            "text/plain": [
              "0.9671428571428572"
            ]
          },
          "metadata": {
            "tags": []
          },
          "execution_count": 19
        }
      ]
    },
    {
      "cell_type": "markdown",
      "metadata": {
        "id": "tqYS3eSzYFJ8",
        "colab_type": "text"
      },
      "source": [
        "We can see that the accuracy is immediately better than the previous models, even with a low epoch count. But how do we arrive at this model? One way to do it (if you have sufficiently powerful hardware) is to use cross validation to search combinations of parameters.\n",
        "\n",
        "In order to look for the right params, and have it not be so problematic, let's use an already defined scikit-learn function called **GridSearchCV**. This function will help us by making all the combinations of the parameters we give it and using them in the network."
      ]
    },
    {
      "cell_type": "code",
      "metadata": {
        "id": "mnrarVr7YFJ-",
        "colab_type": "code",
        "outputId": "9b9df3a7-9c3b-4da5-9b4c-2d95673bd348",
        "colab": {
          "base_uri": "https://localhost:8080/",
          "height": 547
        }
      },
      "source": [
        "from sklearn.model_selection import GridSearchCV\n",
        "\n",
        "model = MLPClassifier(max_iter=10, tol=1e-8, early_stopping=True, batch_size=200)\n",
        "\n",
        "parameters = {\n",
        "    \"hidden_layer_sizes\": [(100)],\n",
        "    \"activation\": [\"tanh\", \"relu\"],\n",
        "    \"solver\": [\"lbfgs\", \"sgd\", \"adam\"],\n",
        "    \"alpha\": [0.0001, 0.00001],\n",
        "    \"learning_rate\": [\"invscaling\", \"adaptive\"],\n",
        "    \"momentum\": [0.9, 0.95]\n",
        "}\n",
        "\n",
        "search = GridSearchCV(model, parameters, cv = 5, n_jobs=-1, verbose=2)\n",
        "search.fit(data.drop(\"label\", axis = 1), data.label)"
      ],
      "execution_count": 0,
      "outputs": [
        {
          "output_type": "stream",
          "text": [
            "Fitting 5 folds for each of 48 candidates, totalling 240 fits\n"
          ],
          "name": "stdout"
        },
        {
          "output_type": "stream",
          "text": [
            "[Parallel(n_jobs=-1)]: Using backend LokyBackend with 2 concurrent workers.\n",
            "/usr/local/lib/python3.6/dist-packages/joblib/externals/loky/process_executor.py:706: UserWarning: A worker stopped while some jobs were given to the executor. This can be caused by a too short worker timeout or by a memory leak.\n",
            "  \"timeout or by a memory leak.\", UserWarning\n",
            "[Parallel(n_jobs=-1)]: Done  37 tasks      | elapsed:  4.6min\n",
            "[Parallel(n_jobs=-1)]: Done 158 tasks      | elapsed: 18.3min\n",
            "[Parallel(n_jobs=-1)]: Done 240 out of 240 | elapsed: 26.3min finished\n",
            "/usr/local/lib/python3.6/dist-packages/sklearn/neural_network/multilayer_perceptron.py:566: ConvergenceWarning: Stochastic Optimizer: Maximum iterations (10) reached and the optimization hasn't converged yet.\n",
            "  % self.max_iter, ConvergenceWarning)\n"
          ],
          "name": "stderr"
        },
        {
          "output_type": "execute_result",
          "data": {
            "text/plain": [
              "GridSearchCV(cv=5, error_score='raise-deprecating',\n",
              "             estimator=MLPClassifier(activation='relu', alpha=0.0001,\n",
              "                                     batch_size=200, beta_1=0.9, beta_2=0.999,\n",
              "                                     early_stopping=True, epsilon=1e-08,\n",
              "                                     hidden_layer_sizes=(100,),\n",
              "                                     learning_rate='constant',\n",
              "                                     learning_rate_init=0.001, max_iter=10,\n",
              "                                     momentum=0.9, n_iter_no_change=10,\n",
              "                                     nesterovs_momentum=True, power_t=0.5,\n",
              "                                     random_state=No...\n",
              "                                     solver='adam', tol=1e-08,\n",
              "                                     validation_fraction=0.1, verbose=False,\n",
              "                                     warm_start=False),\n",
              "             iid='warn', n_jobs=-1,\n",
              "             param_grid={'activation': ['tanh', 'relu'],\n",
              "                         'alpha': [0.0001, 1e-05], 'hidden_layer_sizes': [100],\n",
              "                         'learning_rate': ['invscaling', 'adaptive'],\n",
              "                         'momentum': [0.9, 0.95],\n",
              "                         'solver': ['lbfgs', 'sgd', 'adam']},\n",
              "             pre_dispatch='2*n_jobs', refit=True, return_train_score=False,\n",
              "             scoring=None, verbose=2)"
            ]
          },
          "metadata": {
            "tags": []
          },
          "execution_count": 23
        }
      ]
    },
    {
      "cell_type": "code",
      "metadata": {
        "id": "9UhlIB427Tss",
        "colab_type": "code",
        "outputId": "520f30c0-f046-4f45-a1e5-00866b4c74d5",
        "colab": {
          "base_uri": "https://localhost:8080/",
          "height": 34
        }
      },
      "source": [
        "estimator=MLPClassifier(\n",
        "    activation='relu', alpha=0.0001,\n",
        "    batch_size=200, beta_1=0.9, beta_2=0.999,\n",
        "    early_stopping=True, epsilon=1e-08,\n",
        "    hidden_layer_sizes=(100,),\n",
        "    learning_rate='constant',\n",
        "    learning_rate_init=0.001, max_iter=100,\n",
        "    momentum=0.9, n_iter_no_change=10,\n",
        "    nesterovs_momentum=True, power_t=0.5,\n",
        "    solver='adam', tol=1e-08,\n",
        "    validation_fraction=0.1, verbose=False,\n",
        "    warm_start=False\n",
        ").fit(x_train, y_train)\n",
        "\n",
        "estimator.score(x_test, y_test)"
      ],
      "execution_count": 0,
      "outputs": [
        {
          "output_type": "execute_result",
          "data": {
            "text/plain": [
              "0.9535714285714286"
            ]
          },
          "metadata": {
            "tags": []
          },
          "execution_count": 27
        }
      ]
    },
    {
      "cell_type": "markdown",
      "metadata": {
        "id": "feIt-_cUDCNK",
        "colab_type": "text"
      },
      "source": [
        "## Tensorflow + Keras\n",
        "\n",
        "Tensorflow is the famous machine learning framework from Google, with it we can perform any machine learning algorithm. It works by using a programming style combining a special mathematical construct called a Tensor (**similar** in a certain way to a multidimensional array) and graph processing to achieve desired results. Meanwhile, Keras is a specification for building Neural Networks, it happens to be implemented in many machine learning frameworks, including Tensorflow. Here we will use Keras to build a convolutional neural network to predict the digits from MNIST.\n",
        "\n",
        "Here we import Tensorflow 2 using the python magic (this magic only exists in Colab)."
      ]
    },
    {
      "cell_type": "code",
      "metadata": {
        "id": "BkNI6igODBUL",
        "colab_type": "code",
        "outputId": "7525538e-d2dc-4495-f754-c9a666be515e",
        "colab": {
          "base_uri": "https://localhost:8080/",
          "height": 34
        }
      },
      "source": [
        "%tensorflow_version 2.x\n",
        "\n",
        "import tensorflow as tf"
      ],
      "execution_count": 0,
      "outputs": [
        {
          "output_type": "stream",
          "text": [
            "TensorFlow 2.x selected.\n"
          ],
          "name": "stdout"
        }
      ]
    },
    {
      "cell_type": "markdown",
      "metadata": {
        "id": "X588KnWMIEKT",
        "colab_type": "text"
      },
      "source": [
        "Now we can load the MNIST dataset, which come along with a variety of other datasets in keras."
      ]
    },
    {
      "cell_type": "code",
      "metadata": {
        "id": "c8PYdXMSIDrW",
        "colab_type": "code",
        "outputId": "05c33892-205b-4c33-f1c0-18330ca8bd1a",
        "colab": {
          "base_uri": "https://localhost:8080/",
          "height": 857
        }
      },
      "source": [
        "mnist = tf.keras.datasets.mnist\n",
        "\n",
        "(x_train, y_train), (x_test, y_test) = mnist.load_data()\n",
        "x_train, x_test = x_train / 255.0, x_test / 255.0\n",
        "\n",
        "x_train"
      ],
      "execution_count": 0,
      "outputs": [
        {
          "output_type": "execute_result",
          "data": {
            "text/plain": [
              "array([[[0., 0., 0., ..., 0., 0., 0.],\n",
              "        [0., 0., 0., ..., 0., 0., 0.],\n",
              "        [0., 0., 0., ..., 0., 0., 0.],\n",
              "        ...,\n",
              "        [0., 0., 0., ..., 0., 0., 0.],\n",
              "        [0., 0., 0., ..., 0., 0., 0.],\n",
              "        [0., 0., 0., ..., 0., 0., 0.]],\n",
              "\n",
              "       [[0., 0., 0., ..., 0., 0., 0.],\n",
              "        [0., 0., 0., ..., 0., 0., 0.],\n",
              "        [0., 0., 0., ..., 0., 0., 0.],\n",
              "        ...,\n",
              "        [0., 0., 0., ..., 0., 0., 0.],\n",
              "        [0., 0., 0., ..., 0., 0., 0.],\n",
              "        [0., 0., 0., ..., 0., 0., 0.]],\n",
              "\n",
              "       [[0., 0., 0., ..., 0., 0., 0.],\n",
              "        [0., 0., 0., ..., 0., 0., 0.],\n",
              "        [0., 0., 0., ..., 0., 0., 0.],\n",
              "        ...,\n",
              "        [0., 0., 0., ..., 0., 0., 0.],\n",
              "        [0., 0., 0., ..., 0., 0., 0.],\n",
              "        [0., 0., 0., ..., 0., 0., 0.]],\n",
              "\n",
              "       ...,\n",
              "\n",
              "       [[0., 0., 0., ..., 0., 0., 0.],\n",
              "        [0., 0., 0., ..., 0., 0., 0.],\n",
              "        [0., 0., 0., ..., 0., 0., 0.],\n",
              "        ...,\n",
              "        [0., 0., 0., ..., 0., 0., 0.],\n",
              "        [0., 0., 0., ..., 0., 0., 0.],\n",
              "        [0., 0., 0., ..., 0., 0., 0.]],\n",
              "\n",
              "       [[0., 0., 0., ..., 0., 0., 0.],\n",
              "        [0., 0., 0., ..., 0., 0., 0.],\n",
              "        [0., 0., 0., ..., 0., 0., 0.],\n",
              "        ...,\n",
              "        [0., 0., 0., ..., 0., 0., 0.],\n",
              "        [0., 0., 0., ..., 0., 0., 0.],\n",
              "        [0., 0., 0., ..., 0., 0., 0.]],\n",
              "\n",
              "       [[0., 0., 0., ..., 0., 0., 0.],\n",
              "        [0., 0., 0., ..., 0., 0., 0.],\n",
              "        [0., 0., 0., ..., 0., 0., 0.],\n",
              "        ...,\n",
              "        [0., 0., 0., ..., 0., 0., 0.],\n",
              "        [0., 0., 0., ..., 0., 0., 0.],\n",
              "        [0., 0., 0., ..., 0., 0., 0.]]])"
            ]
          },
          "metadata": {
            "tags": []
          },
          "execution_count": 18
        }
      ]
    },
    {
      "cell_type": "markdown",
      "metadata": {
        "id": "6XPEmiucGVCc",
        "colab_type": "text"
      },
      "source": [
        "The previous dataset, as can be seen is a multidimensional array representing the matrix of values for the digits. Now we will create a regular dense model using keras."
      ]
    },
    {
      "cell_type": "code",
      "metadata": {
        "id": "Sz4Gw-D6GUCu",
        "colab_type": "code",
        "colab": {}
      },
      "source": [
        "model = tf.keras.models.Sequential([\n",
        "  tf.keras.layers.Flatten(input_shape=(28, 28)),\n",
        "  tf.keras.layers.Dense(128, activation='relu'),\n",
        "  tf.keras.layers.Dropout(0.2),\n",
        "  tf.keras.layers.Dense(10, activation='softmax')\n",
        "])\n",
        "\n",
        "model.compile(optimizer='adam',\n",
        "              loss='sparse_categorical_crossentropy',\n",
        "              metrics=['accuracy'])"
      ],
      "execution_count": 0,
      "outputs": []
    },
    {
      "cell_type": "markdown",
      "metadata": {
        "id": "n5T2_iaLG58R",
        "colab_type": "text"
      },
      "source": [
        "The above lines create the model in a simple high level API implemented in Tensorflow for Keras. Now we will fit the model."
      ]
    },
    {
      "cell_type": "code",
      "metadata": {
        "id": "8WpzcmpzG5PY",
        "colab_type": "code",
        "outputId": "7dd7f604-5594-4d90-8023-49b2473b32e1",
        "colab": {
          "base_uri": "https://localhost:8080/",
          "height": 223
        }
      },
      "source": [
        "model.fit(x_train, y_train, epochs=5)"
      ],
      "execution_count": 0,
      "outputs": [
        {
          "output_type": "stream",
          "text": [
            "Train on 60000 samples\n",
            "Epoch 1/5\n",
            "60000/60000 [==============================] - 6s 105us/sample - loss: 0.2935 - accuracy: 0.9153\n",
            "Epoch 2/5\n",
            "60000/60000 [==============================] - 6s 97us/sample - loss: 0.1444 - accuracy: 0.9568\n",
            "Epoch 3/5\n",
            "60000/60000 [==============================] - 5s 86us/sample - loss: 0.1082 - accuracy: 0.9665\n",
            "Epoch 4/5\n",
            "60000/60000 [==============================] - 5s 87us/sample - loss: 0.0886 - accuracy: 0.9726\n",
            "Epoch 5/5\n",
            "60000/60000 [==============================] - 5s 88us/sample - loss: 0.0740 - accuracy: 0.9767\n"
          ],
          "name": "stdout"
        },
        {
          "output_type": "execute_result",
          "data": {
            "text/plain": [
              "<tensorflow.python.keras.callbacks.History at 0x7f928bc23be0>"
            ]
          },
          "metadata": {
            "tags": []
          },
          "execution_count": 4
        }
      ]
    },
    {
      "cell_type": "markdown",
      "metadata": {
        "id": "cxWs_R1KKDLs",
        "colab_type": "text"
      },
      "source": [
        "This output show us each epoch along with it's training error and loss, we will now obtain the validation set error."
      ]
    },
    {
      "cell_type": "code",
      "metadata": {
        "id": "M7n77C5eJklJ",
        "colab_type": "code",
        "outputId": "8b2574d0-37a6-4177-ded4-99d7ee907673",
        "colab": {
          "base_uri": "https://localhost:8080/",
          "height": 51
        }
      },
      "source": [
        "model.evaluate(x_test,  y_test, verbose=2)"
      ],
      "execution_count": 0,
      "outputs": [
        {
          "output_type": "stream",
          "text": [
            "10000/1 - 1s - loss: 0.0397 - accuracy: 0.9766\n"
          ],
          "name": "stdout"
        },
        {
          "output_type": "execute_result",
          "data": {
            "text/plain": [
              "[0.07721703117198776, 0.9766]"
            ]
          },
          "metadata": {
            "tags": []
          },
          "execution_count": 16
        }
      ]
    },
    {
      "cell_type": "markdown",
      "metadata": {
        "id": "SZP3zpNMJlTW",
        "colab_type": "text"
      },
      "source": [
        "As we can see, we get an accuracy of 97% in this training with just 5 epochs. We have to take into account that this dataset is different from the previous one, in the sense that it has a lot more data in the training set, this, in part, is responsible for the out of the box increase in the accuracy. We will now try a more complex convolutional neural network.\n",
        "\n",
        "We will first make some necessary transformations to the data."
      ]
    },
    {
      "cell_type": "code",
      "metadata": {
        "id": "k_7ck8itSRK5",
        "colab_type": "code",
        "colab": {}
      },
      "source": [
        "x_train = x_train.reshape(60000,28,28,1)\n",
        "x_test = x_test.reshape(10000,28,28,1)\n",
        "\n",
        "y_train = tf.keras.utils.to_categorical(y_train)\n",
        "y_test = tf.keras.utils.to_categorical(y_test)"
      ],
      "execution_count": 0,
      "outputs": []
    },
    {
      "cell_type": "code",
      "metadata": {
        "id": "3UrAIv2HKcQ4",
        "colab_type": "code",
        "outputId": "037f57fd-2658-49a5-9a98-a3026fe7c18b",
        "colab": {
          "base_uri": "https://localhost:8080/",
          "height": 223
        }
      },
      "source": [
        "model = tf.keras.models.Sequential([\n",
        "  tf.keras.layers.Conv2D(32, kernel_size=(3, 3), activation='relu', input_shape=(28,28,1)),\n",
        "  tf.keras.layers.Conv2D(64, (3, 3), activation='relu'),\n",
        "  tf.keras.layers.MaxPooling2D(pool_size=(2, 2)),\n",
        "  tf.keras.layers.Dropout(0.25),\n",
        "  tf.keras.layers.Flatten(),\n",
        "  tf.keras.layers.Dense(128, activation='relu'),\n",
        "  tf.keras.layers.Dropout(0.5),\n",
        "  tf.keras.layers.Dense(10, activation='softmax')\n",
        "])\n",
        "\n",
        "model.compile(loss=tf.keras.losses.categorical_crossentropy,\n",
        "              optimizer='adam',\n",
        "              metrics=['accuracy'])\n",
        "\n",
        "model.fit(x_train, y_train, epochs=5)"
      ],
      "execution_count": 0,
      "outputs": [
        {
          "output_type": "stream",
          "text": [
            "Train on 60000 samples\n",
            "Epoch 1/5\n",
            "60000/60000 [==============================] - 11s 176us/sample - loss: 0.1805 - accuracy: 0.9448\n",
            "Epoch 2/5\n",
            "60000/60000 [==============================] - 7s 120us/sample - loss: 0.0760 - accuracy: 0.9770\n",
            "Epoch 3/5\n",
            "60000/60000 [==============================] - 7s 121us/sample - loss: 0.0576 - accuracy: 0.9825\n",
            "Epoch 4/5\n",
            "60000/60000 [==============================] - 7s 120us/sample - loss: 0.0485 - accuracy: 0.9851\n",
            "Epoch 5/5\n",
            "60000/60000 [==============================] - 7s 118us/sample - loss: 0.0404 - accuracy: 0.9878\n"
          ],
          "name": "stdout"
        },
        {
          "output_type": "execute_result",
          "data": {
            "text/plain": [
              "<tensorflow.python.keras.callbacks.History at 0x7f7d4255aac8>"
            ]
          },
          "metadata": {
            "tags": []
          },
          "execution_count": 20
        }
      ]
    },
    {
      "cell_type": "markdown",
      "metadata": {
        "id": "b3pA9iqyWHkI",
        "colab_type": "text"
      },
      "source": [
        "Now we can find out the validation error!"
      ]
    },
    {
      "cell_type": "code",
      "metadata": {
        "id": "CPiFAuRQVurM",
        "colab_type": "code",
        "outputId": "cbd30048-6f50-41c1-d436-2394599c51af",
        "colab": {
          "base_uri": "https://localhost:8080/",
          "height": 51
        }
      },
      "source": [
        "model.evaluate(x_test, y_test, verbose=2)"
      ],
      "execution_count": 0,
      "outputs": [
        {
          "output_type": "stream",
          "text": [
            "10000/1 - 1s - loss: 0.0137 - accuracy: 0.9923\n"
          ],
          "name": "stdout"
        },
        {
          "output_type": "execute_result",
          "data": {
            "text/plain": [
              "[0.027371744615323407, 0.9923]"
            ]
          },
          "metadata": {
            "tags": []
          },
          "execution_count": 21
        }
      ]
    }
  ]
}